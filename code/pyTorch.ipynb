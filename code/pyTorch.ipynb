{
 "cells": [
  {
   "cell_type": "markdown",
   "id": "275cf5cc-ae4c-4dc5-b543-9747334398b3",
   "metadata": {},
   "source": [
    "# PyTorch Implementation "
   ]
  },
  {
   "cell_type": "markdown",
   "id": "a5a28000-b7d4-49df-a93f-5f0cd09ae335",
   "metadata": {},
   "source": [
    "## Setup"
   ]
  },
  {
   "cell_type": "code",
   "execution_count": 1,
   "id": "24d03ec1-eee4-4a30-a4d5-7a7ac825ac4a",
   "metadata": {},
   "outputs": [],
   "source": [
    "# Standard Library Imports\n",
    "import os\n",
    "import time\n",
    "import tracemalloc\n",
    "\n",
    "# Third-Party Library Imports\n",
    "import numpy as np\n",
    "import matplotlib.pyplot as plt\n",
    "import seaborn as sns\n",
    "from PIL import Image\n",
    "\n",
    "# PyTorch Imports\n",
    "import torch\n",
    "import torch.nn as nn\n",
    "import torch.nn.functional as F\n",
    "import torch.optim as optim\n",
    "from torch.nn import init\n",
    "from torch.utils.data import DataLoader, random_split\n",
    "import torchvision\n",
    "from torchvision.transforms import transforms\n",
    "\n",
    "# Scikit-Learn Imports\n",
    "from sklearn.metrics import confusion_matrix, accuracy_score, f1_score\n",
    "\n",
    "# IPython Widgets\n",
    "from ipywidgets import interact\n",
    "\n",
    "# Project-Specific Imports\n",
    "from MiraBest_F import MBFRFull\n",
    "from FRDEEP import FRDEEPN, FRDEEPF\n"
   ]
  },
  {
   "cell_type": "code",
   "execution_count": 2,
   "id": "6f739fef-792b-4387-89fb-15367ee8e438",
   "metadata": {},
   "outputs": [],
   "source": [
    "run = 1\n",
    "batch_size = 32  \n",
    "imsize = 150\n",
    "input_shape = (1, imsize, imsize)\n",
    "random_state = 42\n",
    "num_classes = 2"
   ]
  },
  {
   "cell_type": "markdown",
   "id": "9a5d7929-695a-461a-b197-ad73525c7255",
   "metadata": {},
   "source": [
    "#### Function to show images"
   ]
  },
  {
   "cell_type": "code",
   "execution_count": 3,
   "id": "1e5430b5-8081-4682-8877-271de0e51317",
   "metadata": {},
   "outputs": [],
   "source": [
    "def show_image(index):\n",
    "    img = images[index] / 2 + 0.5     \n",
    "    npimg = img.numpy()\n",
    "    plt.imshow(np.transpose(npimg, (1, 2, 0)))\n",
    "    plt.title(labels[index])\n",
    "    plt.axis('off')\n",
    "    plt.colorbar()\n",
    "    plt.show()"
   ]
  },
  {
   "cell_type": "markdown",
   "id": "e6dde981-d4a1-4d9c-a683-c575657e72fb",
   "metadata": {},
   "source": [
    "#### Function to save metric to file"
   ]
  },
  {
   "cell_type": "code",
   "execution_count": 4,
   "id": "a2961f08-9f6e-4b86-ad4a-3f1c76ac9467",
   "metadata": {},
   "outputs": [],
   "source": [
    "def save_metric(metric_name, value):\n",
    "    file_path = os.path.join(base_path, f'{metric_name}.txt')\n",
    "    with open(file_path, 'w') as f:\n",
    "        f.write(str(value))\n",
    "    print(f\"{metric_name.capitalize()}:\", value)"
   ]
  },
  {
   "cell_type": "markdown",
   "id": "5f882111-5ac5-43c0-91bb-9eb3d92ecf3f",
   "metadata": {},
   "source": [
    "## Select Model and Dataset"
   ]
  },
  {
   "cell_type": "code",
   "execution_count": 5,
   "id": "a6ed76ec-842a-41fb-9410-42b1a47f9dbc",
   "metadata": {},
   "outputs": [],
   "source": [
    "class ModelDatasetSelector:\n",
    "    def __init__(self, config):\n",
    "        self.config = config\n",
    "        self.batch_size = config['batch_size']\n",
    "        \n",
    "        rotate = transforms.RandomRotation([-180, 180])\n",
    "        totensor = transforms.ToTensor()\n",
    "        normalise = transforms.Normalize((0.0029,), (0.0341,)) \n",
    "        \n",
    "        self.transforms = transforms.Compose([\n",
    "            rotate,\n",
    "            totensor,\n",
    "            normalise\n",
    "        ])\n",
    "        \n",
    "        self.test_transforms = transforms.Compose([\n",
    "            totensor\n",
    "        ])\n",
    "\n",
    "    def get_dataset(self):\n",
    "        dataset_map = {\n",
    "            'mirabest': MBFRFull,\n",
    "            'frdeep-n': FRDEEPN,\n",
    "            'frdeep-f': FRDEEPF\n",
    "        }\n",
    "        dataset_class = dataset_map.get(self.config['dataset'])\n",
    "        if not dataset_class:\n",
    "            raise ValueError(f\"Unknown dataset: {self.config['dataset']}\")\n",
    "\n",
    "        train_data = dataset_class(self.config['dataset'], download=True, train=True, transform=self.transforms)\n",
    "        test_data = dataset_class(self.config['dataset'], download=True, train=False, transform = self.transforms)\n",
    "\n",
    "        train_loader = DataLoader(train_data, batch_size=self.batch_size, shuffle=True)\n",
    "        test_loader = DataLoader(test_data, batch_size=self.batch_size, shuffle=True)\n",
    "\n",
    "        return train_data, test_data, train_loader, test_loader\n",
    "\n",
    "    def get_model(self):\n",
    "        model_map = {\n",
    "            'convxpress': lambda: convXpress(random_state, input_shape, num_classes).to(device),\n",
    "            'toothless': lambda: toothless_real(random_state, input_shape, num_classes).to(device),\n",
    "            'mcrgnet': lambda: mcrgNet(random_state, input_shape, num_classes).to(device),\n",
    "            'first_class': lambda: first_class(random_state, input_shape, num_classes).to(device)\n",
    "        }\n",
    "        model_func = model_map.get(self.config['model'])\n",
    "        if not model_func:\n",
    "            raise ValueError(f\"Unknown model: {self.config['model']}\")\n",
    "\n",
    "        return model_func()\n",
    "    \n",
    "    def get_epochs(self):\n",
    "        # Map model names to their corresponding epoch counts\n",
    "        epoch_map = {\n",
    "            'convxpress': 100,\n",
    "            'toothless': 30,\n",
    "            'mcrgnet': 60,\n",
    "            'first_class': 100\n",
    "        }\n",
    "        epochs = epoch_map.get(self.config['model'])\n",
    "        if epochs is None:\n",
    "            raise ValueError(f\"Unknown model: {self.config['model']}\")\n",
    "\n",
    "        return epochs"
   ]
  },
  {
   "cell_type": "code",
   "execution_count": 6,
   "id": "c2a1082f-ecb6-46b4-9124-60d3e5ede2e0",
   "metadata": {},
   "outputs": [
    {
     "name": "stdout",
     "output_type": "stream",
     "text": [
      "Downloading https://www.jb.man.ac.uk/research/MiraBest/MiraBest_F/MiraBest_F_batches.tar.gz to mirabest/MiraBest_F_batches.tar.gz\n"
     ]
    },
    {
     "name": "stderr",
     "output_type": "stream",
     "text": [
      "100%|██████████| 765686/765686 [00:01<00:00, 543006.72it/s]\n"
     ]
    },
    {
     "name": "stdout",
     "output_type": "stream",
     "text": [
      "Run 1\n",
      "Training for 100 epochs.\n",
      "Selected dataset: mirabest\n",
      "Selected model: convxpress\n",
      "Train loader size: 1069\n",
      "Test loader size: 153\n"
     ]
    }
   ],
   "source": [
    "config = {'dataset': 'mirabest', \n",
    "          'model': 'convxpress', \n",
    "          'batch_size': 32}\n",
    "\n",
    "selector = ModelDatasetSelector(config)\n",
    "train_data, test_data, train_loader, test_loader = selector.get_dataset()\n",
    "\n",
    "epochs = selector.get_epochs()\n",
    "print(f\"Run {run}\")\n",
    "print(f\"Training for {epochs} epochs.\")\n",
    "\n",
    "print(f\"Selected dataset: {config['dataset']}\")\n",
    "print(f\"Selected model: {config['model']}\")\n",
    "print(f\"Train loader size: {len(train_loader.dataset)}\")\n",
    "print(f\"Test loader size: {len(test_loader.dataset)}\")\n",
    "\n",
    "base_path = f\"out/pytorch/{config['dataset']}/{config['model']}/run_{run}/\""
   ]
  },
  {
   "cell_type": "markdown",
   "id": "d86b7eb3-4f33-4176-8f95-feb9c9d5a037",
   "metadata": {},
   "source": [
    "### Create train and validation sets"
   ]
  },
  {
   "cell_type": "code",
   "execution_count": 7,
   "id": "42c37fb7-7831-4da9-b216-af32c90b5a0c",
   "metadata": {},
   "outputs": [],
   "source": [
    "train_length = int(0.8*len(train_data))\n",
    "val_length = len(train_data) - train_length\n",
    "train, valid = random_split(train_data, [train_length, val_length])\n",
    "train_loader = DataLoader(train, batch_size=batch_size, shuffle=True)\n",
    "valid_loader = DataLoader(valid, batch_size=batch_size, shuffle=True)"
   ]
  },
  {
   "cell_type": "code",
   "execution_count": 8,
   "id": "54b82bd0-b972-42c3-9d57-f7788ca577f0",
   "metadata": {},
   "outputs": [],
   "source": [
    "dataiter = iter(train_loader)\n",
    "images, labels = next(dataiter)"
   ]
  },
  {
   "cell_type": "markdown",
   "id": "4b633ce7-b153-416d-befc-0098d74d2dda",
   "metadata": {},
   "source": [
    "## Visualize the dataset"
   ]
  },
  {
   "cell_type": "code",
   "execution_count": 9,
   "id": "c54dd194-78a9-415f-b742-174c506a7563",
   "metadata": {},
   "outputs": [],
   "source": [
    "#interact(show_image, index=(0,len(images) - 1))"
   ]
  },
  {
   "cell_type": "markdown",
   "id": "8f24d741-545e-4006-a5c6-0c9f1e05e977",
   "metadata": {},
   "source": [
    "## Create the model"
   ]
  },
  {
   "cell_type": "markdown",
   "id": "9047b390-8449-41e1-a4a7-9370d8950267",
   "metadata": {},
   "source": [
    "### convXpress"
   ]
  },
  {
   "cell_type": "code",
   "execution_count": 10,
   "id": "fa98bdaf-a5a2-4784-99da-29a132830287",
   "metadata": {},
   "outputs": [],
   "source": [
    "class convXpress(nn.Module):\n",
    "    def __init__(self, random_state, input_shape, num_classes):\n",
    "        super(convXpress, self).__init__()\n",
    "        \n",
    "        torch.manual_seed(random_state)\n",
    "                \n",
    "        self.conv1 = nn.Conv2d(in_channels=1, out_channels=32, kernel_size=3, stride =2, padding = 1)\n",
    "        self.conv2 = nn.Conv2d(in_channels=32, out_channels=32, kernel_size=3, padding = 1)\n",
    "        self.conv3 = nn.Conv2d(in_channels=32, out_channels=32, kernel_size=3, padding = 1)\n",
    "        self.pool = nn.MaxPool2d(kernel_size=2, padding = 1)\n",
    "        self.dropout_conv = nn.Dropout(0.25)\n",
    "        \n",
    "        self.conv4 = nn.Conv2d(32, 64, kernel_size=3, stride =2, padding = 1)\n",
    "        self.conv5 = nn.Conv2d(64, 64, kernel_size=3, padding = 1)\n",
    "        self.conv6 = nn.Conv2d(64, 64, kernel_size=3, padding = 1)\n",
    "        \n",
    "        self.conv7 = nn.Conv2d(64, 128, kernel_size=3, padding = 1)\n",
    "        self.conv8 = nn.Conv2d(128, 128, kernel_size=3, padding = 1)\n",
    "        self.conv9 = nn.Conv2d(128, 128, kernel_size=3, padding = 1)\n",
    "        \n",
    "        self.conv10 = nn.Conv2d(128, 256, kernel_size=3, padding = 1)\n",
    "        self.conv11 = nn.Conv2d(256, 256, kernel_size=3, padding = 1)\n",
    "        \n",
    "        self.flatten = nn.Flatten()\n",
    "        self.fc1 = nn.Linear(4096, 500)\n",
    "        self.dropout_fc = nn.Dropout(0.5)\n",
    "        self.fc2 = nn.Linear(500, num_classes)\n",
    "        \n",
    "        # Initialize weights\n",
    "        self._initialize_weights(random_state)\n",
    "        \n",
    "    def forward(self, x):\n",
    "        x = F.relu(self.conv1(x))\n",
    "        x = F.relu(self.conv2(x))\n",
    "        x = F.relu(self.conv3(x))\n",
    "        x = self.pool(x)\n",
    "        x = self.dropout_conv(x)\n",
    "        \n",
    "        x = F.relu(self.conv4(x))\n",
    "        x = F.relu(self.conv5(x))\n",
    "        x = F.relu(self.conv6(x))\n",
    "        x = self.pool(x)\n",
    "        x = self.dropout_conv(x)\n",
    "        \n",
    "        x = F.relu(self.conv7(x))\n",
    "        x = F.relu(self.conv8(x))\n",
    "        x = F.relu(self.conv9(x))\n",
    "        x = self.pool(x)\n",
    "        x = self.dropout_conv(x)\n",
    "        \n",
    "        x = F.relu(self.conv10(x))\n",
    "        x = F.relu(self.conv11(x))\n",
    "        x = self.pool(x)\n",
    "        x = self.dropout_conv(x)\n",
    "        \n",
    "        x = self.flatten(x)\n",
    "        x = self.fc1(x)\n",
    "        x = self.dropout_fc(x)\n",
    "        x = self.fc2(x)\n",
    "        \n",
    "        return F.softmax(x, dim=1)\n",
    "    \n",
    "    def _initialize_weights(self, random_state):\n",
    "        torch.manual_seed(random_state)\n",
    "        # He initialization for Conv layers\n",
    "        for m in self.modules():\n",
    "            if isinstance(m, nn.Conv2d):\n",
    "                nn.init.kaiming_normal_(m.weight, mode='fan_out', nonlinearity='relu')\n",
    "                if m.bias is not None:\n",
    "                    nn.init.zeros_(m.bias)\n",
    "            elif isinstance(m, nn.Linear):\n",
    "                nn.init.xavier_uniform_(m.weight)\n",
    "                nn.init.zeros_(m.bias)"
   ]
  },
  {
   "cell_type": "markdown",
   "id": "8d3f4691-9c67-4f11-9851-bc789242c874",
   "metadata": {},
   "source": [
    "### toothless"
   ]
  },
  {
   "cell_type": "code",
   "execution_count": 11,
   "id": "c76716eb-47db-4bd6-af84-c39040c8c427",
   "metadata": {},
   "outputs": [],
   "source": [
    "class toothless_real(nn.Module):\n",
    "    def __init__(self, random_state, input_shape, num_classes): \n",
    "        super(toothless_real, self).__init__()\n",
    "        \n",
    "        self.conv1 = nn.Conv2d(1, 96, kernel_size=11, stride=4, padding=0)\n",
    "        self.batch1 = nn.BatchNorm2d(96)\n",
    "        self.relu = nn.ReLU(inplace=True)\n",
    "        self.pool1 = nn.MaxPool2d(kernel_size=3, stride=2)\n",
    "        \n",
    "        self.conv2 = nn.Conv2d(96, 256, kernel_size=5, padding=1)\n",
    "        self.batch2 = nn.BatchNorm2d(256)\n",
    "        self.pool2 = nn.MaxPool2d(kernel_size=3, stride=2)\n",
    "        \n",
    "        self.conv3 = nn.Conv2d(256, 384, kernel_size=3, padding=1)\n",
    "        self.batch3 = nn.BatchNorm2d(384)\n",
    "        \n",
    "        self.conv4 = nn.Conv2d(384, 384, kernel_size=3, padding=1)\n",
    "        self.batch4 = nn.BatchNorm2d(384)\n",
    "        \n",
    "        self.conv5 = nn.Conv2d(384, 256, kernel_size=3, padding=1)\n",
    "        self.batch5 = nn.BatchNorm2d(256)\n",
    "        self.pool5 = nn.MaxPool2d(kernel_size=3, stride=2)\n",
    "        \n",
    "        self.flatten = nn.Flatten()\n",
    "        self.fc1 = nn.Linear(2304, 4096)\n",
    "        self.dropout_fc = nn.Dropout(0.5)\n",
    "        \n",
    "        self.fc2 = nn.Linear(4096, 4096)\n",
    "        self.dropout_fc = nn.Dropout(0.5)\n",
    "        \n",
    "        self.fc3 = nn.Linear(4096, 2)\n",
    "        \n",
    "        # Initialize weights\n",
    "        self._initialize_weights(random_state)\n",
    "        \n",
    "    def forward(self, x):\n",
    "        x = F.relu(self.conv1(x))\n",
    "        x = self.batch1(x)\n",
    "        x = self.pool1(x)\n",
    "        \n",
    "        x = F.relu(self.conv2(x))\n",
    "        x = self.batch2(x)\n",
    "        x = self.pool2(x)\n",
    "        \n",
    "        x = F.relu(self.conv3(x))\n",
    "        x = self.batch3(x)\n",
    "        \n",
    "        x = F.relu(self.conv4(x))\n",
    "        x = self.batch4(x)\n",
    "        \n",
    "        x = F.relu(self.conv5(x))\n",
    "        x = self.batch5(x)\n",
    "        x = self.pool5(x)\n",
    "        \n",
    "        x = self.flatten(x)\n",
    "        x = self.fc1(x)\n",
    "        x = self.relu(x)\n",
    "        x = self.dropout_fc(x)\n",
    "        \n",
    "        x = self.fc2(x)\n",
    "        x = self.relu(x)\n",
    "        x = self.dropout_fc(x)\n",
    "        \n",
    "        x = self.fc3(x)\n",
    "        return F.softmax(x, dim=1)\n",
    "    \n",
    "    def _initialize_weights(self, random_state):\n",
    "        torch.manual_seed(random_state)\n",
    "        # He initialization for Conv layers\n",
    "        for m in self.modules():\n",
    "            if isinstance(m, nn.Conv2d):\n",
    "                nn.init.kaiming_normal_(m.weight, mode='fan_out', nonlinearity='relu')\n",
    "                if m.bias is not None:\n",
    "                    nn.init.zeros_(m.bias)\n",
    "            elif isinstance(m, nn.Linear):\n",
    "                nn.init.xavier_uniform_(m.weight)\n",
    "                nn.init.zeros_(m.bias)"
   ]
  },
  {
   "cell_type": "markdown",
   "id": "9c66e0f5-11db-4869-a5ac-046e58a88023",
   "metadata": {},
   "source": [
    "### mcrgNet"
   ]
  },
  {
   "cell_type": "code",
   "execution_count": 12,
   "id": "03c882ec-dd7d-408d-9dfc-f5b06f09cd88",
   "metadata": {},
   "outputs": [],
   "source": [
    "class mcrgNet(nn.Module):\n",
    "    def __init__(self, random_state, input_shape, num_classes):\n",
    "        super(mcrgNet, self).__init__()\n",
    "        torch.manual_seed(random_state)\n",
    "        \n",
    "        self.conv1 = nn.Conv2d(in_channels=1, out_channels=8, kernel_size=3, stride=2, padding=1)\n",
    "        self.dropout_conv = nn.Dropout(0.25)\n",
    "        self.conv2 = nn.Conv2d(in_channels=8, out_channels=8, kernel_size=3, stride=2, padding=1)\n",
    "        self.conv3 = nn.Conv2d(in_channels=8, out_channels=16, kernel_size=3, stride=2, padding=1)\n",
    "        self.conv4 = nn.Conv2d(in_channels=16, out_channels=16, kernel_size=3, stride=2, padding=1)\n",
    "        self.conv5 = nn.Conv2d(in_channels=16, out_channels=32, kernel_size=3, stride=2, padding=1)\n",
    "        self.flatten = nn.Flatten()\n",
    "        self.fc1 = nn.Linear(800,64)\n",
    "        self.fc2 = nn.Linear(64,num_classes)\n",
    "        \n",
    "        self._initialize_weights(random_state)\n",
    "        \n",
    "    def forward(self,x):\n",
    "        x = F.relu(self.conv1(x))\n",
    "        x = self.dropout_conv(x)\n",
    "        x = F.relu(self.conv2(x))\n",
    "        x = self.dropout_conv(x)\n",
    "        x = F.relu(self.conv3(x))\n",
    "        x = self.dropout_conv(x)\n",
    "        x = F.relu(self.conv4(x))\n",
    "        x = self.dropout_conv(x)\n",
    "        x = F.relu(self.conv5(x))\n",
    "        x = self.dropout_conv(x)\n",
    "        \n",
    "        # flatten, dense, dropout, dense\n",
    "        x = self.flatten(x)\n",
    "        x = self.fc1(x)\n",
    "        x = self.dropout_conv(x)\n",
    "        x = self.fc2(x)\n",
    "        \n",
    "        return F.softmax(x, dim=1)\n",
    "    \n",
    "    def _initialize_weights(self, random_state):\n",
    "        torch.manual_seed(random_state)\n",
    "        # He initialization for Conv layers\n",
    "        for m in self.modules():\n",
    "            if isinstance(m, nn.Conv2d):\n",
    "                nn.init.kaiming_normal_(m.weight, mode='fan_out', nonlinearity='relu')\n",
    "                if m.bias is not None:\n",
    "                    nn.init.zeros_(m.bias)\n",
    "            elif isinstance(m, nn.Linear):\n",
    "                nn.init.xavier_uniform_(m.weight)\n",
    "                nn.init.zeros_(m.bias)"
   ]
  },
  {
   "cell_type": "markdown",
   "id": "117dd664-dbab-4a74-a974-eee35f00df77",
   "metadata": {},
   "source": [
    "### firstClass"
   ]
  },
  {
   "cell_type": "code",
   "execution_count": 13,
   "id": "8c4463f1-8f0d-46de-bc30-544a948e3466",
   "metadata": {},
   "outputs": [],
   "source": [
    "class first_class(nn.Module):\n",
    "    def __init__(self, random_state, input_shape, num_classes):\n",
    "        super(first_class, self).__init__()\n",
    "        torch.manual_seed(random_state)\n",
    "        \n",
    "        self.conv1 = nn.Conv2d(in_channels=1, out_channels=32, kernel_size=3, padding=1)\n",
    "        self.pool = nn.MaxPool2d(kernel_size=2, stride=2) \n",
    "        self.conv2 = nn.Conv2d(in_channels=32, out_channels=64, kernel_size=3, padding=1)\n",
    "        self.conv3 = nn.Conv2d(in_channels=64, out_channels=194, kernel_size=3, padding=1)\n",
    "        self.dropout_conv = nn.Dropout(0.5)\n",
    "        self.flatten = nn.Flatten()\n",
    "        self.fc1 = nn.Linear(62856 ,194)\n",
    "        self.fc2 = nn.Linear(194,num_classes)\n",
    "        \n",
    "        self._initialize_weights(random_state)\n",
    "        \n",
    "    def forward(self,x):\n",
    "        x = F.relu(self.conv1(x))\n",
    "        x = self.pool(x)\n",
    "        x = F.relu(self.conv2(x))\n",
    "        x = self.pool(x)\n",
    "        x = F.relu(self.conv3(x))\n",
    "        x = self.pool(x)\n",
    "        \n",
    "        # flatten, dense, dropout, dense\n",
    "        x = self.flatten(x)\n",
    "        x = self.fc1(x)\n",
    "        x = self.dropout_conv(x)\n",
    "        x = self.fc2(x)\n",
    "        \n",
    "        return F.softmax(x, dim=1)\n",
    "    \n",
    "    def _initialize_weights(self, random_state):\n",
    "        torch.manual_seed(random_state)\n",
    "        # He initialization for Conv layers\n",
    "        for m in self.modules():\n",
    "            if isinstance(m, nn.Conv2d):\n",
    "                nn.init.kaiming_normal_(m.weight, mode='fan_out', nonlinearity='relu')\n",
    "                if m.bias is not None:\n",
    "                    nn.init.zeros_(m.bias)\n",
    "            elif isinstance(m, nn.Linear):\n",
    "                nn.init.xavier_uniform_(m.weight)\n",
    "                nn.init.zeros_(m.bias)"
   ]
  },
  {
   "cell_type": "markdown",
   "id": "51f5a88f-3d85-47b4-8863-40326712a6ea",
   "metadata": {},
   "source": [
    "## Switch to CPU "
   ]
  },
  {
   "cell_type": "code",
   "execution_count": 14,
   "id": "059bdb9a-c582-4900-8aca-f8ef775e6860",
   "metadata": {},
   "outputs": [
    {
     "name": "stdout",
     "output_type": "stream",
     "text": [
      "cpu\n"
     ]
    }
   ],
   "source": [
    "device = torch.device('cpu')\n",
    "print(device)\n",
    "images = images.to(device)\n",
    "labels = labels.to(device)"
   ]
  },
  {
   "cell_type": "markdown",
   "id": "ec6ccad7-d658-4a00-ac1e-be052b992df7",
   "metadata": {
    "tags": []
   },
   "source": [
    "## Train the model"
   ]
  },
  {
   "cell_type": "code",
   "execution_count": 15,
   "id": "9e278a54-4086-4cbc-b479-8719b8fbcd08",
   "metadata": {},
   "outputs": [],
   "source": [
    "model = selector.get_model()\n",
    "criterion = nn.CrossEntropyLoss()\n",
    "optimizer = optim.Adam(model.parameters(), lr=0.0001)"
   ]
  },
  {
   "cell_type": "code",
   "execution_count": 16,
   "id": "b59a770d-b2cb-4076-9def-ce990ef604af",
   "metadata": {},
   "outputs": [],
   "source": [
    "trainingEpoch_loss = []\n",
    "validationEpoch_loss = []"
   ]
  },
  {
   "cell_type": "code",
   "execution_count": 17,
   "id": "5fa94749-95b1-4775-a71f-2358638e807c",
   "metadata": {},
   "outputs": [],
   "source": [
    "# Begin memory usage\n",
    "tracemalloc.start()"
   ]
  },
  {
   "cell_type": "code",
   "execution_count": 18,
   "id": "18da6b97-7f0e-4465-b183-00926b433471",
   "metadata": {},
   "outputs": [],
   "source": [
    "# Begin timing  \n",
    "start_time = time.time()"
   ]
  },
  {
   "cell_type": "code",
   "execution_count": 19,
   "id": "ebc5fffe-0f85-4d4b-8edf-2a4270e4863a",
   "metadata": {},
   "outputs": [
    {
     "name": "stderr",
     "output_type": "stream",
     "text": [
      "/home/madhia/.local/lib/python3.10/site-packages/torch/autograd/__init__.py:266: UserWarning: CUDA initialization: The NVIDIA driver on your system is too old (found version 11070). Please update your GPU driver by downloading and installing a new version from the URL: http://www.nvidia.com/Download/index.aspx Alternatively, go to: https://pytorch.org to install a PyTorch version that has been compiled with your version of the CUDA driver. (Triggered internally at ../c10/cuda/CUDAFunctions.cpp:108.)\n",
      "  Variable._execution_engine.run_backward(  # Calls into the C++ engine to run the backward pass\n"
     ]
    },
    {
     "name": "stdout",
     "output_type": "stream",
     "text": [
      "Epoch 1 \t\t Training Loss: 0.7401541780542444 \t\t Validation Loss: 0.709516167640686\n",
      "Epoch 2 \t\t Training Loss: 0.7533629580780312 \t\t Validation Loss: 0.7034099357468742\n",
      "Epoch 3 \t\t Training Loss: 0.6937600881965073 \t\t Validation Loss: 0.7034232786723545\n",
      "Epoch 4 \t\t Training Loss: 0.6982032943654943 \t\t Validation Loss: 0.6922821572848729\n",
      "Epoch 5 \t\t Training Loss: 0.6909716040999802 \t\t Validation Loss: 0.6894170301301139\n",
      "Epoch 6 \t\t Training Loss: 0.6897983551025391 \t\t Validation Loss: 0.688198276928493\n",
      "Epoch 7 \t\t Training Loss: 0.692187887650949 \t\t Validation Loss: 0.6855472837175641\n",
      "Epoch 8 \t\t Training Loss: 0.6886712025713038 \t\t Validation Loss: 0.6943187202726092\n",
      "Epoch 9 \t\t Training Loss: 0.689254484794758 \t\t Validation Loss: 0.6818764209747314\n",
      "Epoch 10 \t\t Training Loss: 0.6818507026743006 \t\t Validation Loss: 0.6813475745064872\n",
      "Epoch 11 \t\t Training Loss: 0.6828115692845097 \t\t Validation Loss: 0.6757916126932416\n",
      "Epoch 12 \t\t Training Loss: 0.6771102437266597 \t\t Validation Loss: 0.6685831461633954\n",
      "Epoch 13 \t\t Training Loss: 0.6687471336788602 \t\t Validation Loss: 0.6527377111571175\n",
      "Epoch 14 \t\t Training Loss: 0.6618024221173039 \t\t Validation Loss: 0.6382462297167096\n",
      "Epoch 15 \t\t Training Loss: 0.6628355096887659 \t\t Validation Loss: 0.6344049658094134\n",
      "Epoch 16 \t\t Training Loss: 0.6528389277281584 \t\t Validation Loss: 0.6138207997594561\n",
      "Epoch 17 \t\t Training Loss: 0.6251018444697062 \t\t Validation Loss: 0.5981994100979396\n",
      "Epoch 18 \t\t Training Loss: 0.6309586498472426 \t\t Validation Loss: 0.6253532256398883\n",
      "Epoch 19 \t\t Training Loss: 0.6159444572748961 \t\t Validation Loss: 0.5624990974153791\n",
      "Epoch 20 \t\t Training Loss: 0.6171633667416043 \t\t Validation Loss: 0.5712875468390328\n",
      "Epoch 21 \t\t Training Loss: 0.5903207792176141 \t\t Validation Loss: 0.5457622536591121\n",
      "Epoch 22 \t\t Training Loss: 0.5701116897441723 \t\t Validation Loss: 0.5377786372389112\n",
      "Epoch 23 \t\t Training Loss: 0.5822057437013697 \t\t Validation Loss: 0.6631292956215995\n",
      "Epoch 24 \t\t Training Loss: 0.603947271903356 \t\t Validation Loss: 0.6558139239038739\n",
      "Epoch 25 \t\t Training Loss: 0.5615708000130124 \t\t Validation Loss: 0.5601834739957537\n",
      "Epoch 26 \t\t Training Loss: 0.586456870591199 \t\t Validation Loss: 0.5217138656548092\n",
      "Epoch 27 \t\t Training Loss: 0.5619451823057952 \t\t Validation Loss: 0.5086193212441036\n",
      "Epoch 28 \t\t Training Loss: 0.5558862343982414 \t\t Validation Loss: 0.5159740277699062\n",
      "Epoch 29 \t\t Training Loss: 0.5391572007426509 \t\t Validation Loss: 0.5184258009706225\n",
      "Epoch 30 \t\t Training Loss: 0.5609194614269115 \t\t Validation Loss: 0.6384895145893097\n",
      "Epoch 31 \t\t Training Loss: 0.5614301882408284 \t\t Validation Loss: 0.5028784573078156\n",
      "Epoch 32 \t\t Training Loss: 0.5334910176418446 \t\t Validation Loss: 0.5281344439302172\n",
      "Epoch 33 \t\t Training Loss: 0.535604183320646 \t\t Validation Loss: 0.5242387524672917\n",
      "Epoch 34 \t\t Training Loss: 0.532293239125499 \t\t Validation Loss: 0.5238802518163409\n",
      "Epoch 35 \t\t Training Loss: 0.5363740446390929 \t\t Validation Loss: 0.5152630124773298\n",
      "Epoch 36 \t\t Training Loss: 0.5279773639308082 \t\t Validation Loss: 0.4989088135106223\n",
      "Epoch 37 \t\t Training Loss: 0.5165531072351668 \t\t Validation Loss: 0.5340697297028133\n",
      "Epoch 38 \t\t Training Loss: 0.5334110690487756 \t\t Validation Loss: 0.4839977238859449\n",
      "Epoch 39 \t\t Training Loss: 0.5298456858705591 \t\t Validation Loss: 0.5877339584486825\n",
      "Epoch 40 \t\t Training Loss: 0.5439672149993755 \t\t Validation Loss: 0.483632709298815\n",
      "Epoch 41 \t\t Training Loss: 0.5348698905220738 \t\t Validation Loss: 0.4759604590279715\n",
      "Epoch 42 \t\t Training Loss: 0.5476129640031744 \t\t Validation Loss: 0.4982010466711862\n",
      "Epoch 43 \t\t Training Loss: 0.5210453006956313 \t\t Validation Loss: 0.5038543088095528\n",
      "Epoch 44 \t\t Training Loss: 0.5356593242398014 \t\t Validation Loss: 0.4746769964694977\n",
      "Epoch 45 \t\t Training Loss: 0.5159141642075998 \t\t Validation Loss: 0.5183174226965223\n",
      "Epoch 46 \t\t Training Loss: 0.534589867900919 \t\t Validation Loss: 0.549307929618018\n",
      "Epoch 47 \t\t Training Loss: 0.5223139116057643 \t\t Validation Loss: 0.4810593383652823\n",
      "Epoch 48 \t\t Training Loss: 0.5135813642431188 \t\t Validation Loss: 0.47310206294059753\n",
      "Epoch 49 \t\t Training Loss: 0.5037866212703563 \t\t Validation Loss: 0.4746286060128893\n",
      "Epoch 50 \t\t Training Loss: 0.5064246820078956 \t\t Validation Loss: 0.5353398876530784\n",
      "Epoch 51 \t\t Training Loss: 0.5107890025333122 \t\t Validation Loss: 0.5229080787726811\n",
      "Epoch 52 \t\t Training Loss: 0.5237681711161578 \t\t Validation Loss: 0.46717009799821035\n",
      "Epoch 53 \t\t Training Loss: 0.521334973750291 \t\t Validation Loss: 0.4941542957510267\n",
      "Epoch 54 \t\t Training Loss: 0.49462358046461036 \t\t Validation Loss: 0.480997805084501\n",
      "Epoch 55 \t\t Training Loss: 0.5062315243261831 \t\t Validation Loss: 0.5315869280270168\n",
      "Epoch 56 \t\t Training Loss: 0.5138831260027709 \t\t Validation Loss: 0.4625783732959202\n",
      "Epoch 57 \t\t Training Loss: 0.5136369212909981 \t\t Validation Loss: 0.48493816597121103\n",
      "Epoch 58 \t\t Training Loss: 0.5168983969423506 \t\t Validation Loss: 0.48280873468944\n",
      "Epoch 59 \t\t Training Loss: 0.507474610099086 \t\t Validation Loss: 0.4753067408289228\n",
      "Epoch 60 \t\t Training Loss: 0.4976086362644478 \t\t Validation Loss: 0.4833513966628483\n",
      "Epoch 61 \t\t Training Loss: 0.5225232442220052 \t\t Validation Loss: 0.4800376892089844\n",
      "Epoch 62 \t\t Training Loss: 0.49112990829679704 \t\t Validation Loss: 0.487719395330974\n",
      "Epoch 63 \t\t Training Loss: 0.49828838419031213 \t\t Validation Loss: 0.46418149556432453\n",
      "Epoch 64 \t\t Training Loss: 0.47867146465513444 \t\t Validation Loss: 0.45511314272880554\n",
      "Epoch 65 \t\t Training Loss: 0.49502441507798656 \t\t Validation Loss: 0.49469348788261414\n",
      "Epoch 66 \t\t Training Loss: 0.5173115421224523 \t\t Validation Loss: 0.4556031014238085\n",
      "Epoch 67 \t\t Training Loss: 0.506277737794099 \t\t Validation Loss: 0.5088608818394798\n",
      "Epoch 68 \t\t Training Loss: 0.49741007884343463 \t\t Validation Loss: 0.46377851707594736\n",
      "Epoch 69 \t\t Training Loss: 0.4886121584309472 \t\t Validation Loss: 0.4833249918052128\n",
      "Epoch 70 \t\t Training Loss: 0.4738065015386652 \t\t Validation Loss: 0.4678285164492471\n",
      "Epoch 71 \t\t Training Loss: 0.48800879496115224 \t\t Validation Loss: 0.4521484375\n",
      "Epoch 72 \t\t Training Loss: 0.5155284548247302 \t\t Validation Loss: 0.46648245198386057\n",
      "Epoch 73 \t\t Training Loss: 0.4901373772709458 \t\t Validation Loss: 0.44408480184418814\n",
      "Epoch 74 \t\t Training Loss: 0.49410911953007736 \t\t Validation Loss: 0.48212417108672007\n",
      "Epoch 75 \t\t Training Loss: 0.487859723744569 \t\t Validation Loss: 0.49719686593328205\n",
      "Epoch 76 \t\t Training Loss: 0.50447909589167 \t\t Validation Loss: 0.458005143063409\n",
      "Epoch 77 \t\t Training Loss: 0.48266046356271813 \t\t Validation Loss: 0.46362982051713125\n",
      "Epoch 78 \t\t Training Loss: 0.48211367152355333 \t\t Validation Loss: 0.4439877229077475\n",
      "Epoch 79 \t\t Training Loss: 0.48056617710325455 \t\t Validation Loss: 0.49208319187164307\n",
      "Epoch 80 \t\t Training Loss: 0.48864013618893093 \t\t Validation Loss: 0.45312378236225676\n",
      "Epoch 81 \t\t Training Loss: 0.48444237863575973 \t\t Validation Loss: 0.47104666914258686\n",
      "Epoch 82 \t\t Training Loss: 0.49463106084752967 \t\t Validation Loss: 0.4731964256082262\n",
      "Epoch 83 \t\t Training Loss: 0.47526985848391495 \t\t Validation Loss: 0.46468229804720196\n",
      "Epoch 84 \t\t Training Loss: 0.48131750248096605 \t\t Validation Loss: 0.4440932401588985\n",
      "Epoch 85 \t\t Training Loss: 0.477341095606486 \t\t Validation Loss: 0.4711146780422756\n",
      "Epoch 86 \t\t Training Loss: 0.47312788720484134 \t\t Validation Loss: 0.4670933910778591\n",
      "Epoch 87 \t\t Training Loss: 0.4840612753673836 \t\t Validation Loss: 0.4873873548848288\n",
      "Epoch 88 \t\t Training Loss: 0.47853563008485017 \t\t Validation Loss: 0.4623884516102927\n",
      "Epoch 89 \t\t Training Loss: 0.48420398985898055 \t\t Validation Loss: 0.4556346195084708\n",
      "Epoch 90 \t\t Training Loss: 0.4737426782095874 \t\t Validation Loss: 0.4666531341416495\n",
      "Epoch 91 \t\t Training Loss: 0.47598943555796586 \t\t Validation Loss: 0.45121344923973083\n",
      "Epoch 92 \t\t Training Loss: 0.468871776704435 \t\t Validation Loss: 0.4527280032634735\n",
      "Epoch 93 \t\t Training Loss: 0.4737047917313046 \t\t Validation Loss: 0.45827937551907133\n",
      "Epoch 94 \t\t Training Loss: 0.4685678581396739 \t\t Validation Loss: 0.4493568880217416\n",
      "Epoch 95 \t\t Training Loss: 0.49105069041252136 \t\t Validation Loss: 0.453005313873291\n",
      "Epoch 96 \t\t Training Loss: 0.5011074244976044 \t\t Validation Loss: 0.4721717281000955\n",
      "Epoch 97 \t\t Training Loss: 0.4771292397269496 \t\t Validation Loss: 0.47472803933279856\n",
      "Epoch 98 \t\t Training Loss: 0.47615322691422923 \t\t Validation Loss: 0.47523197531700134\n",
      "Epoch 99 \t\t Training Loss: 0.4753747085730235 \t\t Validation Loss: 0.4963910026209695\n",
      "Epoch 100 \t\t Training Loss: 0.4619402167973695 \t\t Validation Loss: 0.4448094367980957\n",
      "Finished Training\n"
     ]
    }
   ],
   "source": [
    "for epoch in range(epochs):\n",
    "    train_loss = []\n",
    "    model.train()\n",
    "    for images, labels in train_loader:\n",
    "        images, labels = images.to(device), labels.to(device)\n",
    "        \n",
    "        # Clear the gradients\n",
    "        optimizer.zero_grad()  \n",
    "        # Forward pass\n",
    "        outputs = model(images)\n",
    "        # Find the loss\n",
    "        loss = criterion(outputs, labels)\n",
    "        # Calculate the gradients\n",
    "        loss.backward()\n",
    "        # Update weights\n",
    "        optimizer.step()\n",
    "        # Calculate the loss\n",
    "        train_loss.append(loss.item())\n",
    "        \n",
    "    trainingEpoch_loss.append(np.mean(train_loss))\n",
    "    \n",
    "    model.eval()\n",
    "    valid_loss = []\n",
    "    with torch.no_grad():\n",
    "        for images, labels in valid_loader:\n",
    "            images, labels = images.to(device), labels.to(device)\n",
    "            outputs = model(images)\n",
    "            loss = criterion(outputs,labels)\n",
    "            valid_loss.append(loss.item())\n",
    "        \n",
    "        validationEpoch_loss.append(np.mean(valid_loss)) \n",
    "    \n",
    "    print(f'Epoch {epoch+1} \\t\\t Training Loss: {trainingEpoch_loss[epoch]} \\t\\t Validation Loss: {validationEpoch_loss[epoch]}')\n",
    "\n",
    "print('Finished Training')"
   ]
  },
  {
   "cell_type": "markdown",
   "id": "c9c31bd2-b4ed-4429-90fb-87d910f0d05f",
   "metadata": {},
   "source": [
    "### Training time"
   ]
  },
  {
   "cell_type": "code",
   "execution_count": 21,
   "id": "6b2e6138-8496-40ae-98ec-6b824a7bde72",
   "metadata": {},
   "outputs": [
    {
     "name": "stdout",
     "output_type": "stream",
     "text": [
      "The training took 1171.22 seconds.\n",
      "Train_time: 1171.22\n"
     ]
    }
   ],
   "source": [
    "end_time = time.time()\n",
    "elapsed_time = end_time - start_time\n",
    "elapsed_time = round(elapsed_time, 2)\n",
    "print(f\"The training took {elapsed_time} seconds.\")\n",
    "\n",
    "save_metric('train_time', elapsed_time)"
   ]
  },
  {
   "cell_type": "markdown",
   "id": "0326bac0-6b1a-4c0c-8958-3314ec36fe7c",
   "metadata": {},
   "source": [
    "### Memory usage"
   ]
  },
  {
   "cell_type": "code",
   "execution_count": 22,
   "id": "0e26fce3-5488-4978-a661-7d171f155dcc",
   "metadata": {},
   "outputs": [
    {
     "name": "stdout",
     "output_type": "stream",
     "text": [
      "Current memory usage: 6.21 MB\n",
      "Peak memory usage: 8.05 MB\n",
      "Mem_use: 8050576\n"
     ]
    }
   ],
   "source": [
    "current, peak = tracemalloc.get_traced_memory()\n",
    "tracemalloc.stop()\n",
    "\n",
    "print(f\"Current memory usage: {current / 10**6:.2f} MB\")\n",
    "print(f\"Peak memory usage: {peak / 10**6:.2f} MB\")\n",
    "\n",
    "peak_memory = peak / 10**6  # Convert to MB\n",
    "\n",
    "save_metric('mem_use', peak)"
   ]
  },
  {
   "cell_type": "markdown",
   "id": "bf5b826c",
   "metadata": {},
   "source": [
    "### Save the model "
   ]
  },
  {
   "cell_type": "code",
   "execution_count": 23,
   "id": "ba03cce4",
   "metadata": {},
   "outputs": [],
   "source": [
    "PATH = f\"out/pytorch/{config['dataset']}/{config['model']}/run_{run}/model.pth\"\n",
    "torch.save(model.state_dict(), PATH)"
   ]
  },
  {
   "cell_type": "markdown",
   "id": "ec6dfb6f-4e50-4b67-99f6-a804d86dff8b",
   "metadata": {},
   "source": [
    "## Predict and Results"
   ]
  },
  {
   "cell_type": "code",
   "execution_count": 24,
   "id": "206d4510-fac6-4889-b006-fd7eb97a0603",
   "metadata": {},
   "outputs": [],
   "source": [
    "dataiter = iter(test_loader)\n",
    "images, labels = next(dataiter)\n",
    "images = images.to(device)\n",
    "labels = labels.to(device)\n",
    "\n",
    "model.load_state_dict(torch.load(PATH))\n",
    "\n",
    "all_predictions = []\n",
    "all_labels = []"
   ]
  },
  {
   "cell_type": "code",
   "execution_count": null,
   "id": "9a3b0f2d-9160-46bb-b509-0c51f2940fc4",
   "metadata": {},
   "outputs": [],
   "source": [
    "# time \n",
    "start_time = time.time()"
   ]
  },
  {
   "cell_type": "code",
   "execution_count": 25,
   "id": "87d5fdc7-ede4-4ce3-ba31-479b22660d6b",
   "metadata": {},
   "outputs": [],
   "source": [
    "model.eval()\n",
    "with torch.no_grad():\n",
    "    for images, labels in test_loader:\n",
    "        images, labels = images.to(device), labels.to(device)\n",
    "        outputs = model(images)\n",
    "        _, predicted = torch.max(outputs.data, 1)\n",
    "        \n",
    "        all_predictions.extend(predicted.cpu().numpy())\n",
    "        all_labels.extend(labels.cpu().numpy())"
   ]
  },
  {
   "cell_type": "markdown",
   "id": "1a469f22-954e-44dd-8eed-7f694a1ae36b",
   "metadata": {},
   "source": [
    "### Classification time"
   ]
  },
  {
   "cell_type": "code",
   "execution_count": 26,
   "id": "6a3f0ba1-d057-47bb-b24f-ac5951340e95",
   "metadata": {},
   "outputs": [
    {
     "name": "stdout",
     "output_type": "stream",
     "text": [
      "The predictions took 1182.6372938156128 seconds.\n",
      "Class_time: 1182.64\n"
     ]
    }
   ],
   "source": [
    "end_time = time.time()\n",
    "elapsed_time = end_time - start_time\n",
    "print(f\"The predictions took {elapsed_time} seconds.\")\n",
    "elapsed_time = round(elapsed_time, 2)\n",
    "\n",
    "save_metric('class_time', elapsed_time)"
   ]
  },
  {
   "cell_type": "markdown",
   "id": "86f4d4e3-a486-45ad-a1a8-4349d3ecbf62",
   "metadata": {},
   "source": [
    "### Accuracy"
   ]
  },
  {
   "cell_type": "code",
   "execution_count": 27,
   "id": "4d70ad9c-0a7f-40a9-b6ed-0e100dd85776",
   "metadata": {},
   "outputs": [
    {
     "name": "stdout",
     "output_type": "stream",
     "text": [
      "Accuracy:  82.3529411764706\n",
      "Accuracy: 82.35\n"
     ]
    }
   ],
   "source": [
    "all_predictions = np.array(all_predictions)\n",
    "all_labels = np.array(all_labels)\n",
    "\n",
    "accuracy = 100 * np.sum(all_predictions == all_labels) / len(all_labels)\n",
    "print('Accuracy: ', accuracy)\n",
    "accuracy = round(accuracy, 2)\n",
    "\n",
    "save_metric('accuracy', accuracy)"
   ]
  },
  {
   "cell_type": "markdown",
   "id": "8a8cb99c-0670-45bd-af47-ea78a9183612",
   "metadata": {},
   "source": [
    "### F1 Score"
   ]
  },
  {
   "cell_type": "code",
   "execution_count": 31,
   "id": "2f59fba7-94f2-49f3-89d5-82fa6e129d3d",
   "metadata": {},
   "outputs": [
    {
     "name": "stdout",
     "output_type": "stream",
     "text": [
      "F1 Score:  82.31508657347703\n",
      "F1: 82.32\n"
     ]
    }
   ],
   "source": [
    "f1 = 100 * f1_score(all_labels, all_predictions, average='weighted')\n",
    "print('F1 Score: ', f1)\n",
    "f1 = round(f1, 2)\n",
    "\n",
    "save_metric('f1', f1)"
   ]
  },
  {
   "cell_type": "markdown",
   "id": "90b57b64-a3db-418e-b2bd-043fc9ad47f4",
   "metadata": {},
   "source": [
    "### Confusion matrix"
   ]
  },
  {
   "cell_type": "code",
   "execution_count": 28,
   "id": "86a91ffe-1be9-406e-8d2a-c2606b1ae61c",
   "metadata": {},
   "outputs": [
    {
     "data": {
      "image/png": "[encoded data removed]",
      "text/plain": [
       "<Figure size 640x480 with 2 Axes>"
      ]
     },
     "metadata": {},
     "output_type": "display_data"
    }
   ],
   "source": [
    "cm = confusion_matrix(all_labels, all_predictions)\n",
    "sns.heatmap(cm, annot=True, fmt='d', cmap='Blues')\n",
    "plt.title('Confusion Matrix')\n",
    "plt.ylabel('True Label')\n",
    "plt.xlabel('Predicted Label')\n",
    "plt.savefig(os.path.join(base_path, \"confusion_matrix.svg\"))\n",
    "plt.show()"
   ]
  },
  {
   "cell_type": "markdown",
   "id": "75aa628c-acaa-47d6-bc97-705c39bea8a4",
   "metadata": {},
   "source": [
    "## Visualize Predictions"
   ]
  },
  {
   "cell_type": "code",
   "execution_count": 29,
   "id": "8e1e5ffe-5b21-4c6d-b427-ab443d74b250",
   "metadata": {},
   "outputs": [
    {
     "data": {
      "image/png": "[encoded data removed]",
      "text/plain": [
       "<Figure size 640x480 with 2 Axes>"
      ]
     },
     "metadata": {},
     "output_type": "display_data"
    }
   ],
   "source": [
    "image = images[0]\n",
    "img = image / 2 + 0.5     # unnormalize\n",
    "image = image.cpu().numpy()\n",
    "plt.imshow(np.transpose(image, (1, 2, 0)))\n",
    "plt.title(f\"Predicted Class: {all_predictions[0]}\\nTrue Class: {all_labels[0]}\", fontsize=14)\n",
    "plt.axis('off')\n",
    "plt.colorbar()\n",
    "plt.show()"
   ]
  },
  {
   "cell_type": "markdown",
   "id": "8db0a74a-923f-47a6-8f00-295c7f97ddff",
   "metadata": {},
   "source": [
    "## Training Results "
   ]
  },
  {
   "cell_type": "code",
   "execution_count": null,
   "id": "ed783401-1039-43cf-9241-6952c4fa8bf2",
   "metadata": {},
   "outputs": [],
   "source": [
    "plt.figure(figsize=(8, 8))\n",
    "plt.subplot(1, 2, 2)\n",
    "plt.plot(range(epochs), trainingEpoch_loss, label='Training Loss')\n",
    "plt.plot(range(epochs), validationEpoch_loss,label='Validation Loss')\n",
    "plt.legend(loc='upper right')\n",
    "plt.title('Training and Validation Loss in PyTorch')\n",
    "plt.savefig(os.path.join(base_path, \"train.svg\"))\n",
    "plt.close()"
   ]
  }
 ],
 "metadata": {
  "kernelspec": {
   "display_name": "Python 3",
   "language": "python",
   "name": "python3"
  },
  "language_info": {
   "codemirror_mode": {
    "name": "ipython",
    "version": 3
   },
   "file_extension": ".py",
   "mimetype": "text/x-python",
   "name": "python",
   "nbconvert_exporter": "python",
   "pygments_lexer": "ipython3",
   "version": "3.10.12"
  }
 },
 "nbformat": 4,
 "nbformat_minor": 5
}

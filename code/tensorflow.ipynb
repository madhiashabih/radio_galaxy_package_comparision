{
 "cells": [
  {
   "cell_type": "markdown",
   "id": "5d673fb0-7ba5-4426-8e7b-6d0fb701712d",
   "metadata": {},
   "source": [
    "# Tensorflow Implementation"
   ]
  },
  {
   "cell_type": "markdown",
   "id": "a5a28000-b7d4-49df-a93f-5f0cd09ae335",
   "metadata": {},
   "source": [
    "## Setup"
   ]
  },
  {
   "cell_type": "code",
   "execution_count": 19,
   "id": "24d03ec1-eee4-4a30-a4d5-7a7ac825ac4a",
   "metadata": {},
   "outputs": [],
   "source": [
    "# Standard Library Imports\n",
    "import time\n",
    "import tracemalloc\n",
    "\n",
    "# Third-Party Library Imports\n",
    "import numpy as np\n",
    "import matplotlib.pyplot as plt\n",
    "import seaborn as sns\n",
    "import torch\n",
    "import torch.nn as nn\n",
    "import torch.nn.functional as F\n",
    "import torch.utils.data\n",
    "from torch.utils.data import DataLoader\n",
    "import tensorflow as tf\n",
    "from tensorflow import keras\n",
    "from tensorflow.keras import initializers, regularizers\n",
    "from tensorflow.keras import layers, Model\n",
    "from tensorflow.keras.layers import (\n",
    "    Conv2D, MaxPooling2D, AveragePooling2D, Dropout, Flatten, Dense, \n",
    "    BatchNormalization, Activation\n",
    ")\n",
    "from tensorflow.keras.models import Sequential\n",
    "from torchvision import transforms\n",
    "from sklearn.metrics import confusion_matrix, accuracy_score, f1_score\n",
    "from sklearn.utils import shuffle\n",
    "from ipywidgets import interact\n",
    "\n",
    "# Project-Specific Imports\n",
    "from MiraBest_F import MBFRFull\n",
    "from FRDEEP import FRDEEPN, FRDEEPF\n"
   ]
  },
  {
   "cell_type": "code",
   "execution_count": 20,
   "id": "6f739fef-792b-4387-89fb-15367ee8e438",
   "metadata": {},
   "outputs": [],
   "source": [
    "run = 3\n",
    "batch_size = 32\n",
    "imsize = 150\n",
    "input_shape = (imsize, imsize, 1) \n",
    "random_state = 42\n",
    "num_classes = 2"
   ]
  },
  {
   "cell_type": "markdown",
   "id": "785d3a16-cdeb-4d00-a5c2-d29b5b64486d",
   "metadata": {},
   "source": [
    "#### Function to show images"
   ]
  },
  {
   "cell_type": "code",
   "execution_count": 21,
   "id": "326b93f3-7881-41d2-83b3-0346f08f935f",
   "metadata": {},
   "outputs": [],
   "source": [
    "def show_image(index):\n",
    "    plt.imshow(X_train_filtered[index])\n",
    "    plt.title(y_train_filtered[index])\n",
    "    plt.axis('off')\n",
    "    plt.colorbar()\n",
    "    plt.show()"
   ]
  },
  {
   "cell_type": "markdown",
   "id": "0ec9f6ca",
   "metadata": {},
   "source": [
    "#### Function to save metric to file"
   ]
  },
  {
   "cell_type": "code",
   "execution_count": 22,
   "id": "eaf83391",
   "metadata": {},
   "outputs": [],
   "source": [
    "def save_metric(metric_name, value):\n",
    "    file_path = os.path.join(base_path, f'{metric_name}.txt')\n",
    "    with open(file_path, 'w') as f:\n",
    "        f.write(str(value))\n",
    "    print(f\"{metric_name.capitalize()}:\", value)"
   ]
  },
  {
   "cell_type": "markdown",
   "id": "03188e15",
   "metadata": {},
   "source": [
    "## Select Model and Dataset"
   ]
  },
  {
   "cell_type": "code",
   "execution_count": 23,
   "id": "2c1fc5af-d154-47c3-8d64-c82484cc948e",
   "metadata": {},
   "outputs": [],
   "source": [
    "\n",
    "class ModelDatasetSelector:\n",
    "    def __init__(self, config):\n",
    "        self.config = config\n",
    "        self.batch_size = config['batch_size']\n",
    "        \n",
    "        rotate = transforms.RandomRotation([-180, 180])\n",
    "        totensor = transforms.ToTensor()\n",
    "        normalise = transforms.Normalize((0.0029,), (0.0341,)) \n",
    "        \n",
    "        self.transforms = transforms.Compose([\n",
    "            rotate,\n",
    "            totensor,\n",
    "            normalise\n",
    "        ])\n",
    "        \n",
    "        self.test_transforms = transforms.Compose([\n",
    "            totensor\n",
    "        ])\n",
    "\n",
    "    def get_dataset(self):\n",
    "        dataset_map = {\n",
    "            'mirabest': MBFRFull,\n",
    "            'frdeep-n': FRDEEPN,\n",
    "            'frdeep-f': FRDEEPF\n",
    "        }\n",
    "        dataset_class = dataset_map.get(self.config['dataset'])\n",
    "        if not dataset_class:\n",
    "            raise ValueError(f\"Unknown dataset: {self.config['dataset']}\")\n",
    "\n",
    "        train_data = dataset_class(self.config['dataset'], download=True, train=True, transform=self.transforms)\n",
    "        test_data = dataset_class(self.config['dataset'], download=True, train=False)\n",
    "\n",
    "        train_loader = DataLoader(train_data, batch_size=self.batch_size, shuffle=True)\n",
    "        test_loader = DataLoader(test_data, batch_size=self.batch_size, shuffle=True)\n",
    "\n",
    "        return train_data, test_data, train_loader, test_loader\n",
    "\n",
    "    def get_model(self, input_shape):\n",
    "        model_map = {\n",
    "            'convxpress': lambda: convXpress(random_state, input_shape, num_classes),\n",
    "            'toothless': lambda: toothless_real(random_state, input_shape, num_classes),\n",
    "            'mcrgnet': lambda: mcrgnet(random_state, input_shape, num_classes),\n",
    "            'first_class': lambda: first_class(random_state, input_shape, num_classes)\n",
    "        }\n",
    "        model_func = model_map.get(self.config['model'])\n",
    "        if not model_func:\n",
    "            raise ValueError(f\"Unknown model: {self.config['model']}\")\n",
    "\n",
    "        return model_func()\n",
    "    \n",
    "    def get_epochs(self):\n",
    "    # Map model names to their corresponding epoch counts\n",
    "        epoch_map = {\n",
    "            'convxpress': 100,\n",
    "            'toothless': 30,\n",
    "            'mcrgnet': 60,\n",
    "            'first_class': 100\n",
    "        }\n",
    "        epochs = epoch_map.get(self.config['model'])\n",
    "        if epochs is None:\n",
    "            raise ValueError(f\"Unknown model: {self.config['model']}\")\n",
    "        \n",
    "        return epochs"
   ]
  },
  {
   "cell_type": "code",
   "execution_count": 24,
   "id": "c0ec63dd-fe27-4c12-b8aa-46967a110eb9",
   "metadata": {},
   "outputs": [
    {
     "name": "stdout",
     "output_type": "stream",
     "text": [
      "Files already downloaded and verified\n",
      "Files already downloaded and verified\n",
      "Training for 100 epochs.\n",
      "Selected dataset: frdeep-f\n",
      "Selected model: convxpress\n",
      "Train loader size: 550\n",
      "Test loader size: 50\n"
     ]
    }
   ],
   "source": [
    "config = {\n",
    "    'dataset': 'frdeep-f',\n",
    "    'model': 'convxpress',\n",
    "    'batch_size': 32\n",
    "}\n",
    "\n",
    "selector = ModelDatasetSelector(config)\n",
    "train_data, test_data, train_loader, test_loader = selector.get_dataset()\n",
    "\n",
    "epochs = selector.get_epochs()\n",
    "print(f\"Training for {epochs} epochs.\")\n",
    "\n",
    "print(f\"Selected dataset: {config['dataset']}\")\n",
    "print(f\"Selected model: {config['model']}\")\n",
    "print(f\"Train loader size: {len(train_loader.dataset)}\")\n",
    "print(f\"Test loader size: {len(test_loader.dataset)}\")\n",
    "\n",
    "base_path = f\"out/tensorflow/{config['dataset']}/{config['model']}/run_{run}\""
   ]
  },
  {
   "cell_type": "markdown",
   "id": "5fd94426-8e4f-42db-b43f-e7ad8694712e",
   "metadata": {},
   "source": [
    "### Create train and test sets"
   ]
  },
  {
   "cell_type": "code",
   "execution_count": 25,
   "id": "427354fe-b274-403d-8243-7969c3f74594",
   "metadata": {},
   "outputs": [],
   "source": [
    "X_train_filtered = np.array(train_data.data)\n",
    "y_train_filtered = np.array(train_data.targets)\n",
    "X_test_filtered = np.array(test_data.data)\n",
    "y_test_filtered = np.array(test_data.targets)"
   ]
  },
  {
   "cell_type": "markdown",
   "id": "d1f3b23b-6de8-4d42-884a-0ed159da1e28",
   "metadata": {},
   "source": [
    "## Visualize the dataset "
   ]
  },
  {
   "cell_type": "code",
   "execution_count": 26,
   "id": "34b860f8-225d-4bd8-875e-bbc5053e7c96",
   "metadata": {},
   "outputs": [],
   "source": [
    "#interact(show_image, index=(0,len(X_train_filtered) - 1))"
   ]
  },
  {
   "cell_type": "markdown",
   "id": "e2e5ee08-5c05-48ac-93ac-d1e35d7d8614",
   "metadata": {},
   "source": [
    "## Create the model"
   ]
  },
  {
   "cell_type": "markdown",
   "id": "8f24d741-545e-4006-a5c6-0c9f1e05e977",
   "metadata": {},
   "source": [
    "### conVxpress"
   ]
  },
  {
   "cell_type": "code",
   "execution_count": 27,
   "id": "d867ff58-eec0-4bd7-9b7b-c7796a7cf927",
   "metadata": {},
   "outputs": [],
   "source": [
    "def convXpress(random_state,input_shape,num_classes):\n",
    "    \n",
    "    model = Sequential()\n",
    "    model.add(Conv2D(32, kernel_size=(3, 3),strides=2,activation='relu',padding='same',input_shape=input_shape, kernel_initializer=initializers.he_normal(seed=random_state),bias_initializer='zeros',name='conv2d_input'))\n",
    "    model.add(Conv2D(32, (3, 3),activation='relu',padding='same', kernel_initializer=initializers.he_normal(seed=random_state),bias_initializer='zeros'))\n",
    "    model.add(Conv2D(32, (3, 3),activation='relu',padding='same', kernel_initializer=initializers.he_normal(seed=random_state),bias_initializer='zeros'))\n",
    "    model.add(MaxPooling2D((2, 2),padding='same'))\n",
    "    model.add(Dropout(0.25, seed=random_state))\n",
    "    model.add(Conv2D(64, (3, 3),strides=2, activation='relu',padding='same', kernel_initializer=initializers.he_normal(seed=random_state),bias_initializer='zeros'))\n",
    "    model.add(Conv2D(64, (3, 3), activation='relu',padding='same', kernel_initializer=initializers.he_normal(seed=random_state),bias_initializer='zeros'))\n",
    "    model.add(Conv2D(64, (3, 3), activation='relu',padding='same', kernel_initializer=initializers.he_normal(seed=random_state),bias_initializer='zeros'))\n",
    "    model.add(MaxPooling2D(pool_size=(2, 2),padding='same'))\n",
    "    model.add(Dropout(0.25, seed=random_state))\n",
    "    model.add(Conv2D(128, (3, 3), activation='relu',padding='same', kernel_initializer=initializers.he_normal(seed=random_state),bias_initializer='zeros'))\n",
    "    model.add(Conv2D(128, (3, 3), activation='relu',padding='same', kernel_initializer=initializers.he_normal(seed=random_state),bias_initializer='zeros'))\n",
    "    model.add(Conv2D(128, (3, 3), activation='relu',padding='same', kernel_initializer=initializers.he_normal(seed=random_state),bias_initializer='zeros'))\n",
    "    model.add(MaxPooling2D(pool_size=(2, 2),padding='same'))\n",
    "    model.add(Dropout(0.25, seed=random_state))\n",
    "    model.add(Conv2D(256, (3, 3), activation='relu',padding='same', kernel_initializer=initializers.he_normal(seed=random_state),bias_initializer='zeros'))\n",
    "    model.add(Conv2D(256, (3, 3), activation='relu',padding='same', kernel_initializer=initializers.he_normal(seed=random_state),bias_initializer='zeros'))\n",
    "    model.add(MaxPooling2D(pool_size=(2, 2),padding='same',name='final_output'))\n",
    "    model.add(Dropout(0.25, seed=random_state))\n",
    "    model.add(Flatten())\n",
    "    model.add(Dense(500, activation='linear',kernel_regularizer=regularizers.l2(0.01), kernel_initializer=initializers.glorot_uniform(seed=random_state),bias_initializer='zeros'))\n",
    "    model.add(Dropout(0.5, seed=random_state))\n",
    "    model.add(Dense(num_classes, activation='softmax', kernel_initializer=initializers.glorot_uniform(seed=random_state),bias_initializer='zeros'))\n",
    "    return model"
   ]
  },
  {
   "cell_type": "markdown",
   "id": "040eace2-4cc1-46b0-a15e-5887cb95c29b",
   "metadata": {},
   "source": [
    "### toothless"
   ]
  },
  {
   "cell_type": "code",
   "execution_count": 28,
   "id": "a03f3b45-78f8-4f28-8ba8-a1f62e4a6555",
   "metadata": {},
   "outputs": [],
   "source": [
    "def toothless_real(random_state,input_shape,num_classes):\n",
    "    \n",
    "    model = Sequential()\n",
    "    model.add(Conv2D(96, kernel_size=(11,11), padding='valid', strides=4,input_shape=input_shape, kernel_initializer=initializers.he_normal(seed=random_state),bias_initializer='zeros'))\n",
    "    model.add(BatchNormalization())\n",
    "    model.add(Activation('relu'))\n",
    "    model.add(MaxPooling2D(pool_size=(3,3), strides=2,padding='valid'))\n",
    "    \n",
    "    model.add(Conv2D(256, (5, 5), padding='same', kernel_initializer=initializers.he_normal(seed=random_state),bias_initializer='zeros'))\n",
    "    model.add(BatchNormalization())\n",
    "    model.add(Activation('relu'))\n",
    "    model.add(MaxPooling2D(pool_size=(3, 3), strides=2,padding='valid'))\n",
    "    \n",
    "    model.add(Conv2D(384, (3, 3), padding='same', kernel_initializer=initializers.he_normal(seed=random_state),bias_initializer='zeros'))\n",
    "    model.add(BatchNormalization())\n",
    "    model.add(Activation('relu'))\n",
    "    \n",
    "    model.add(Conv2D(384, (3, 3), padding='same', kernel_initializer=initializers.he_normal(seed=random_state),bias_initializer='zeros'))\n",
    "    model.add(BatchNormalization())\n",
    "    model.add(Activation('relu'))\n",
    "    \n",
    "    model.add(Conv2D(256, (3, 3), padding='same', kernel_initializer=initializers.he_normal(seed=random_state),bias_initializer='zeros'))\n",
    "    model.add(BatchNormalization())\n",
    "    model.add(Activation('relu'))\n",
    "    model.add(MaxPooling2D(pool_size=(3, 3), strides=2,padding='valid'))\n",
    "    \n",
    "    model.add(Flatten())\n",
    "    model.add(Dense(4096, kernel_initializer=initializers.he_normal(seed=random_state),bias_initializer='zeros'))\n",
    "    model.add(Activation('relu'))\n",
    "    model.add(Dropout(0.5, seed=random_state))\n",
    "    model.add(Dense(4096, kernel_initializer=initializers.he_normal(seed=random_state),bias_initializer='zeros'))\n",
    "    model.add(Activation('relu'))\n",
    "    model.add(Dropout(0.5, seed=random_state))  \n",
    "    model.add(Dense(num_classes, kernel_initializer=initializers.glorot_uniform(seed=random_state),bias_initializer='zeros'))\n",
    "    model.add(Activation('softmax'))\n",
    "    return model"
   ]
  },
  {
   "cell_type": "markdown",
   "id": "65b82041-c8ea-4368-8dcb-496558c7d01d",
   "metadata": {},
   "source": [
    "### mcrgNet"
   ]
  },
  {
   "cell_type": "code",
   "execution_count": 29,
   "id": "d8706458-0330-44cc-a413-f093a007b8bf",
   "metadata": {},
   "outputs": [],
   "source": [
    "def mcrgnet(random_state,input_shape,num_classes):\n",
    "    # Model name: MCRGNet (Morphological Classification of Radio Galaxy Network) \n",
    "    # Title: A Machine Learning Based Morphological Classification of 14,245 Radio AGN's Selected from the Best-Heckman Sample\n",
    "    # Links to Article:\n",
    "    # https://iopscience.iop.org/article/10.3847/1538-4365/aaf9a2\n",
    "    # https://arxiv.org/pdf/1812.07190.pdf\n",
    "    # Publication date: 5 Feb 2019\n",
    "    # Primary Author: Zhixian Ma\n",
    "\n",
    "    # Architecture description: (Page 5, figure 2 b) https://iopscience.iop.org/article/10.3847/1538-4365/aaf9a2/pdf#page=5\n",
    "\n",
    "    # Source code link:\n",
    "    # https://github.com/myinxd/MCRGNet/blob/master/mcrgnet/ConvAE.py\n",
    "\n",
    "\n",
    "    # The architecture defined here is adapted from the article description and not the Github repo\n",
    "    # for the purpose of clarity.\n",
    "    \n",
    "    model = Sequential()\n",
    "    model.add(Conv2D(8, kernel_size=(3,3), strides = 2, activation='relu',padding='same',input_shape=input_shape, kernel_initializer=initializers.he_normal(seed=random_state),bias_initializer='zeros'))\n",
    "    model.add(Dropout(0.25, seed=random_state))\n",
    "    \n",
    "    model.add(Conv2D(8, (3, 3), strides = 2, activation='relu',padding='same', kernel_initializer=initializers.he_normal(seed=random_state),bias_initializer='zeros'))\n",
    "    model.add(Dropout(0.25, seed=random_state))\n",
    "    \n",
    "    model.add(Conv2D(16, (3, 3), strides = 2, activation='relu',padding='same', kernel_initializer=initializers.he_normal(seed=random_state),bias_initializer='zeros'))\n",
    "    model.add(Dropout(0.25, seed=random_state))\n",
    "    \n",
    "    model.add(Conv2D(16, (3, 3), strides = 2, activation='relu',padding='same', kernel_initializer=initializers.he_normal(seed=random_state),bias_initializer='zeros'))\n",
    "    model.add(Dropout(0.25, seed=random_state))\n",
    "    \n",
    "    model.add(Conv2D(32, (3, 3), strides = 2, activation='relu',padding='same', kernel_initializer=initializers.he_normal(seed=random_state),bias_initializer='zeros'))\n",
    "    model.add(Dropout(0.25, seed=random_state))\n",
    "    \n",
    "    model.add(Flatten())\n",
    "    model.add(Dense(64, activation='relu', kernel_initializer=initializers.he_normal(seed=random_state),bias_initializer='zeros')) \n",
    "    model.add(Dropout(0.25, seed=random_state))\n",
    "    model.add(Dense(num_classes, activation='softmax', kernel_initializer=initializers.glorot_uniform(seed=random_state),bias_initializer='zeros'))\n",
    "    return model"
   ]
  },
  {
   "cell_type": "markdown",
   "id": "014f6aa6-1b86-4240-bb4c-48c877133d0d",
   "metadata": {},
   "source": [
    "### firstClass"
   ]
  },
  {
   "cell_type": "code",
   "execution_count": 30,
   "id": "81dc280d-a766-4e3d-9519-81894f79600a",
   "metadata": {},
   "outputs": [],
   "source": [
    "def first_class(random_state,input_shape,num_classes):\n",
    "    # Original\n",
    "    model = Sequential()\n",
    "    model.add(Conv2D(32, kernel_size=(3,3), padding='same',input_shape=input_shape, kernel_initializer=initializers.he_normal(seed=random_state),bias_initializer='zeros',name='conv2d_input'))\n",
    "    model.add(Activation('relu'))\n",
    "    model.add(MaxPooling2D(pool_size=(2,2), strides=2))\n",
    "    model.add(Conv2D(64, (3, 3), padding='same', kernel_initializer=initializers.he_normal(seed=random_state),bias_initializer='zeros'))\n",
    "    model.add(Activation('relu'))\n",
    "    model.add(MaxPooling2D(pool_size=(2, 2), strides=2))\n",
    "    model.add(Conv2D(194, (3, 3), padding='same', kernel_initializer=initializers.he_normal(seed=random_state),bias_initializer='zeros'))\n",
    "    model.add(Activation('relu'))\n",
    "    model.add(MaxPooling2D(pool_size=(2, 2), strides=2,name='final_output'))\n",
    "    model.add(Flatten())\n",
    "    model.add(Dense(194, kernel_initializer=initializers.he_normal(seed=random_state),bias_initializer='zeros'))\n",
    "    model.add(Activation('relu'))\n",
    "    model.add(Dropout(0.5,seed=random_state))\n",
    "    model.add(Dense(num_classes, kernel_initializer=initializers.glorot_uniform(seed=random_state),bias_initializer='zeros'))\n",
    "    model.add(Activation('softmax'))\n",
    "    return model"
   ]
  },
  {
   "cell_type": "markdown",
   "id": "363eee8f-2adb-4c28-9695-5287d28bf826",
   "metadata": {},
   "source": [
    "## Switch to the CPU"
   ]
  },
  {
   "cell_type": "code",
   "execution_count": 31,
   "id": "50cb7852-9661-4e05-bf41-e45198a530a4",
   "metadata": {},
   "outputs": [
    {
     "name": "stdout",
     "output_type": "stream",
     "text": [
      "Tensor is on device: /job:localhost/replica:0/task:0/device:CPU:0\n"
     ]
    }
   ],
   "source": [
    "# Use CPU\n",
    "import os\n",
    "os.environ[\"CUDA_VISIBLE_DEVICES\"] = \"-1\"\n",
    "\n",
    "# Double-check I'm running on CPU\n",
    "tensor = tf.random.normal([3, 3])\n",
    "print(f\"Tensor is on device: {tensor.device}\")"
   ]
  },
  {
   "cell_type": "markdown",
   "id": "6a51d268-4272-4474-a763-455dde70b212",
   "metadata": {},
   "source": [
    "## Train the model"
   ]
  },
  {
   "cell_type": "code",
   "execution_count": 32,
   "id": "26b3fb31-53ea-4140-a2dd-ee402b4b5daf",
   "metadata": {},
   "outputs": [],
   "source": [
    "num_runs = 1\n",
    "histories = []\n",
    "model_reports = []"
   ]
  },
  {
   "cell_type": "code",
   "execution_count": 33,
   "id": "05c90612-5f35-4c4e-9b5c-f7fd29a503a9",
   "metadata": {},
   "outputs": [],
   "source": [
    "# Begin memory usage\n",
    "tracemalloc.start()"
   ]
  },
  {
   "cell_type": "code",
   "execution_count": 34,
   "id": "a2bc8977-a226-4d9a-9350-4dd314162c37",
   "metadata": {},
   "outputs": [],
   "source": [
    "# Begin timing  \n",
    "start_time = time.time()"
   ]
  },
  {
   "cell_type": "code",
   "execution_count": 35,
   "id": "9e278a54-4086-4cbc-b479-8719b8fbcd08",
   "metadata": {},
   "outputs": [
    {
     "name": "stdout",
     "output_type": "stream",
     "text": [
      "Epoch 1/100\n",
      "\u001b[1m14/14\u001b[0m \u001b[32m━━━━━━━━━━━━━━━━━━━━\u001b[0m\u001b[37m\u001b[0m \u001b[1m7s\u001b[0m 171ms/step - accuracy: 0.4484 - loss: 99.1500 - val_accuracy: 0.4545 - val_loss: 13.6107\n",
      "Epoch 2/100\n",
      "\u001b[1m14/14\u001b[0m \u001b[32m━━━━━━━━━━━━━━━━━━━━\u001b[0m\u001b[37m\u001b[0m \u001b[1m2s\u001b[0m 145ms/step - accuracy: 0.4868 - loss: 38.0945 - val_accuracy: 0.6727 - val_loss: 9.9066\n",
      "Epoch 3/100\n",
      "\u001b[1m14/14\u001b[0m \u001b[32m━━━━━━━━━━━━━━━━━━━━\u001b[0m\u001b[37m\u001b[0m \u001b[1m2s\u001b[0m 135ms/step - accuracy: 0.5268 - loss: 22.3898 - val_accuracy: 0.5000 - val_loss: 11.0383\n",
      "Epoch 4/100\n",
      "\u001b[1m14/14\u001b[0m \u001b[32m━━━━━━━━━━━━━━━━━━━━\u001b[0m\u001b[37m\u001b[0m \u001b[1m2s\u001b[0m 132ms/step - accuracy: 0.5406 - loss: 19.0606 - val_accuracy: 0.5364 - val_loss: 10.7187\n",
      "Epoch 5/100\n",
      "\u001b[1m14/14\u001b[0m \u001b[32m━━━━━━━━━━━━━━━━━━━━\u001b[0m\u001b[37m\u001b[0m \u001b[1m2s\u001b[0m 134ms/step - accuracy: 0.5313 - loss: 17.6856 - val_accuracy: 0.4636 - val_loss: 10.9109\n",
      "Epoch 6/100\n",
      "\u001b[1m14/14\u001b[0m \u001b[32m━━━━━━━━━━━━━━━━━━━━\u001b[0m\u001b[37m\u001b[0m \u001b[1m2s\u001b[0m 136ms/step - accuracy: 0.5187 - loss: 15.4225 - val_accuracy: 0.4000 - val_loss: 12.4169\n",
      "Epoch 7/100\n",
      "\u001b[1m14/14\u001b[0m \u001b[32m━━━━━━━━━━━━━━━━━━━━\u001b[0m\u001b[37m\u001b[0m \u001b[1m2s\u001b[0m 146ms/step - accuracy: 0.5638 - loss: 14.9929 - val_accuracy: 0.7091 - val_loss: 9.2072\n",
      "Epoch 8/100\n",
      "\u001b[1m14/14\u001b[0m \u001b[32m━━━━━━━━━━━━━━━━━━━━\u001b[0m\u001b[37m\u001b[0m \u001b[1m2s\u001b[0m 135ms/step - accuracy: 0.6053 - loss: 13.1171 - val_accuracy: 0.5091 - val_loss: 10.1630\n",
      "Epoch 9/100\n",
      "\u001b[1m14/14\u001b[0m \u001b[32m━━━━━━━━━━━━━━━━━━━━\u001b[0m\u001b[37m\u001b[0m \u001b[1m2s\u001b[0m 163ms/step - accuracy: 0.5974 - loss: 12.2626 - val_accuracy: 0.6455 - val_loss: 9.3551\n",
      "Epoch 10/100\n",
      "\u001b[1m14/14\u001b[0m \u001b[32m━━━━━━━━━━━━━━━━━━━━\u001b[0m\u001b[37m\u001b[0m \u001b[1m2s\u001b[0m 162ms/step - accuracy: 0.6233 - loss: 11.9445 - val_accuracy: 0.6545 - val_loss: 9.2495\n",
      "Epoch 11/100\n",
      "\u001b[1m14/14\u001b[0m \u001b[32m━━━━━━━━━━━━━━━━━━━━\u001b[0m\u001b[37m\u001b[0m \u001b[1m3s\u001b[0m 183ms/step - accuracy: 0.5798 - loss: 10.9769 - val_accuracy: 0.6000 - val_loss: 9.3400\n",
      "Epoch 12/100\n",
      "\u001b[1m14/14\u001b[0m \u001b[32m━━━━━━━━━━━━━━━━━━━━\u001b[0m\u001b[37m\u001b[0m \u001b[1m3s\u001b[0m 183ms/step - accuracy: 0.6193 - loss: 10.5479 - val_accuracy: 0.6182 - val_loss: 9.2233\n",
      "Epoch 13/100\n",
      "\u001b[1m14/14\u001b[0m \u001b[32m━━━━━━━━━━━━━━━━━━━━\u001b[0m\u001b[37m\u001b[0m \u001b[1m2s\u001b[0m 164ms/step - accuracy: 0.5969 - loss: 10.6956 - val_accuracy: 0.7455 - val_loss: 8.7624\n",
      "Epoch 14/100\n",
      "\u001b[1m14/14\u001b[0m \u001b[32m━━━━━━━━━━━━━━━━━━━━\u001b[0m\u001b[37m\u001b[0m \u001b[1m2s\u001b[0m 162ms/step - accuracy: 0.5993 - loss: 10.6113 - val_accuracy: 0.6182 - val_loss: 9.0555\n",
      "Epoch 15/100\n",
      "\u001b[1m14/14\u001b[0m \u001b[32m━━━━━━━━━━━━━━━━━━━━\u001b[0m\u001b[37m\u001b[0m \u001b[1m2s\u001b[0m 160ms/step - accuracy: 0.6252 - loss: 10.0944 - val_accuracy: 0.6091 - val_loss: 9.0654\n",
      "Epoch 16/100\n",
      "\u001b[1m14/14\u001b[0m \u001b[32m━━━━━━━━━━━━━━━━━━━━\u001b[0m\u001b[37m\u001b[0m \u001b[1m2s\u001b[0m 164ms/step - accuracy: 0.5954 - loss: 10.5486 - val_accuracy: 0.5727 - val_loss: 9.1796\n",
      "Epoch 17/100\n",
      "\u001b[1m14/14\u001b[0m \u001b[32m━━━━━━━━━━━━━━━━━━━━\u001b[0m\u001b[37m\u001b[0m \u001b[1m2s\u001b[0m 169ms/step - accuracy: 0.6602 - loss: 9.6093 - val_accuracy: 0.6818 - val_loss: 8.7415\n",
      "Epoch 18/100\n",
      "\u001b[1m14/14\u001b[0m \u001b[32m━━━━━━━━━━━━━━━━━━━━\u001b[0m\u001b[37m\u001b[0m \u001b[1m3s\u001b[0m 182ms/step - accuracy: 0.6264 - loss: 9.8867 - val_accuracy: 0.6182 - val_loss: 8.8860\n",
      "Epoch 19/100\n",
      "\u001b[1m14/14\u001b[0m \u001b[32m━━━━━━━━━━━━━━━━━━━━\u001b[0m\u001b[37m\u001b[0m \u001b[1m2s\u001b[0m 162ms/step - accuracy: 0.6502 - loss: 9.4489 - val_accuracy: 0.7091 - val_loss: 8.6280\n",
      "Epoch 20/100\n",
      "\u001b[1m14/14\u001b[0m \u001b[32m━━━━━━━━━━━━━━━━━━━━\u001b[0m\u001b[37m\u001b[0m \u001b[1m2s\u001b[0m 171ms/step - accuracy: 0.6889 - loss: 9.2755 - val_accuracy: 0.7091 - val_loss: 8.6034\n",
      "Epoch 21/100\n",
      "\u001b[1m14/14\u001b[0m \u001b[32m━━━━━━━━━━━━━━━━━━━━\u001b[0m\u001b[37m\u001b[0m \u001b[1m3s\u001b[0m 183ms/step - accuracy: 0.6914 - loss: 9.1030 - val_accuracy: 0.6909 - val_loss: 8.6309\n",
      "Epoch 22/100\n",
      "\u001b[1m14/14\u001b[0m \u001b[32m━━━━━━━━━━━━━━━━━━━━\u001b[0m\u001b[37m\u001b[0m \u001b[1m2s\u001b[0m 163ms/step - accuracy: 0.6893 - loss: 9.3522 - val_accuracy: 0.7909 - val_loss: 8.3969\n",
      "Epoch 23/100\n",
      "\u001b[1m14/14\u001b[0m \u001b[32m━━━━━━━━━━━━━━━━━━━━\u001b[0m\u001b[37m\u001b[0m \u001b[1m2s\u001b[0m 172ms/step - accuracy: 0.7095 - loss: 9.0165 - val_accuracy: 0.7182 - val_loss: 8.4539\n",
      "Epoch 24/100\n",
      "\u001b[1m14/14\u001b[0m \u001b[32m━━━━━━━━━━━━━━━━━━━━\u001b[0m\u001b[37m\u001b[0m \u001b[1m2s\u001b[0m 166ms/step - accuracy: 0.6808 - loss: 9.0914 - val_accuracy: 0.7909 - val_loss: 8.3251\n",
      "Epoch 25/100\n",
      "\u001b[1m14/14\u001b[0m \u001b[32m━━━━━━━━━━━━━━━━━━━━\u001b[0m\u001b[37m\u001b[0m \u001b[1m3s\u001b[0m 207ms/step - accuracy: 0.6799 - loss: 9.1118 - val_accuracy: 0.7909 - val_loss: 8.3379\n",
      "Epoch 26/100\n",
      "\u001b[1m14/14\u001b[0m \u001b[32m━━━━━━━━━━━━━━━━━━━━\u001b[0m\u001b[37m\u001b[0m \u001b[1m3s\u001b[0m 207ms/step - accuracy: 0.6935 - loss: 8.7789 - val_accuracy: 0.7818 - val_loss: 8.3061\n",
      "Epoch 27/100\n",
      "\u001b[1m14/14\u001b[0m \u001b[32m━━━━━━━━━━━━━━━━━━━━\u001b[0m\u001b[37m\u001b[0m \u001b[1m2s\u001b[0m 176ms/step - accuracy: 0.7283 - loss: 8.7192 - val_accuracy: 0.7455 - val_loss: 8.3348\n",
      "Epoch 28/100\n",
      "\u001b[1m14/14\u001b[0m \u001b[32m━━━━━━━━━━━━━━━━━━━━\u001b[0m\u001b[37m\u001b[0m \u001b[1m2s\u001b[0m 177ms/step - accuracy: 0.7178 - loss: 8.7569 - val_accuracy: 0.8000 - val_loss: 8.1676\n",
      "Epoch 29/100\n",
      "\u001b[1m14/14\u001b[0m \u001b[32m━━━━━━━━━━━━━━━━━━━━\u001b[0m\u001b[37m\u001b[0m \u001b[1m2s\u001b[0m 168ms/step - accuracy: 0.6789 - loss: 8.8479 - val_accuracy: 0.7182 - val_loss: 8.3776\n",
      "Epoch 30/100\n",
      "\u001b[1m14/14\u001b[0m \u001b[32m━━━━━━━━━━━━━━━━━━━━\u001b[0m\u001b[37m\u001b[0m \u001b[1m2s\u001b[0m 176ms/step - accuracy: 0.6958 - loss: 8.5921 - val_accuracy: 0.8182 - val_loss: 8.1281\n",
      "Epoch 31/100\n",
      "\u001b[1m14/14\u001b[0m \u001b[32m━━━━━━━━━━━━━━━━━━━━\u001b[0m\u001b[37m\u001b[0m \u001b[1m3s\u001b[0m 188ms/step - accuracy: 0.7271 - loss: 8.5345 - val_accuracy: 0.7364 - val_loss: 8.2163\n",
      "Epoch 32/100\n",
      "\u001b[1m14/14\u001b[0m \u001b[32m━━━━━━━━━━━━━━━━━━━━\u001b[0m\u001b[37m\u001b[0m \u001b[1m3s\u001b[0m 177ms/step - accuracy: 0.6583 - loss: 8.8390 - val_accuracy: 0.7455 - val_loss: 8.1716\n",
      "Epoch 33/100\n",
      "\u001b[1m14/14\u001b[0m \u001b[32m━━━━━━━━━━━━━━━━━━━━\u001b[0m\u001b[37m\u001b[0m \u001b[1m2s\u001b[0m 170ms/step - accuracy: 0.7697 - loss: 8.3349 - val_accuracy: 0.8091 - val_loss: 8.1031\n",
      "Epoch 34/100\n",
      "\u001b[1m14/14\u001b[0m \u001b[32m━━━━━━━━━━━━━━━━━━━━\u001b[0m\u001b[37m\u001b[0m \u001b[1m2s\u001b[0m 163ms/step - accuracy: 0.7470 - loss: 8.3961 - val_accuracy: 0.7727 - val_loss: 8.0888\n",
      "Epoch 35/100\n",
      "\u001b[1m14/14\u001b[0m \u001b[32m━━━━━━━━━━━━━━━━━━━━\u001b[0m\u001b[37m\u001b[0m \u001b[1m3s\u001b[0m 189ms/step - accuracy: 0.7365 - loss: 8.3276 - val_accuracy: 0.7909 - val_loss: 8.0754\n",
      "Epoch 36/100\n",
      "\u001b[1m14/14\u001b[0m \u001b[32m━━━━━━━━━━━━━━━━━━━━\u001b[0m\u001b[37m\u001b[0m \u001b[1m3s\u001b[0m 182ms/step - accuracy: 0.7680 - loss: 8.2366 - val_accuracy: 0.8182 - val_loss: 7.9986\n",
      "Epoch 37/100\n",
      "\u001b[1m14/14\u001b[0m \u001b[32m━━━━━━━━━━━━━━━━━━━━\u001b[0m\u001b[37m\u001b[0m \u001b[1m2s\u001b[0m 176ms/step - accuracy: 0.7492 - loss: 8.3499 - val_accuracy: 0.8091 - val_loss: 8.0052\n",
      "Epoch 38/100\n",
      "\u001b[1m14/14\u001b[0m \u001b[32m━━━━━━━━━━━━━━━━━━━━\u001b[0m\u001b[37m\u001b[0m \u001b[1m3s\u001b[0m 204ms/step - accuracy: 0.7700 - loss: 8.1685 - val_accuracy: 0.7545 - val_loss: 8.0084\n",
      "Epoch 39/100\n",
      "\u001b[1m14/14\u001b[0m \u001b[32m━━━━━━━━━━━━━━━━━━━━\u001b[0m\u001b[37m\u001b[0m \u001b[1m3s\u001b[0m 199ms/step - accuracy: 0.8035 - loss: 8.0955 - val_accuracy: 0.8091 - val_loss: 7.9557\n",
      "Epoch 40/100\n",
      "\u001b[1m14/14\u001b[0m \u001b[32m━━━━━━━━━━━━━━━━━━━━\u001b[0m\u001b[37m\u001b[0m \u001b[1m3s\u001b[0m 191ms/step - accuracy: 0.7688 - loss: 8.0695 - val_accuracy: 0.7818 - val_loss: 7.9568\n",
      "Epoch 41/100\n",
      "\u001b[1m14/14\u001b[0m \u001b[32m━━━━━━━━━━━━━━━━━━━━\u001b[0m\u001b[37m\u001b[0m \u001b[1m3s\u001b[0m 185ms/step - accuracy: 0.7516 - loss: 8.0571 - val_accuracy: 0.7636 - val_loss: 7.9464\n",
      "Epoch 42/100\n",
      "\u001b[1m14/14\u001b[0m \u001b[32m━━━━━━━━━━━━━━━━━━━━\u001b[0m\u001b[37m\u001b[0m \u001b[1m3s\u001b[0m 180ms/step - accuracy: 0.7541 - loss: 8.1190 - val_accuracy: 0.8091 - val_loss: 7.8745\n",
      "Epoch 43/100\n",
      "\u001b[1m14/14\u001b[0m \u001b[32m━━━━━━━━━━━━━━━━━━━━\u001b[0m\u001b[37m\u001b[0m \u001b[1m2s\u001b[0m 171ms/step - accuracy: 0.7937 - loss: 7.9578 - val_accuracy: 0.7636 - val_loss: 7.9101\n",
      "Epoch 44/100\n",
      "\u001b[1m14/14\u001b[0m \u001b[32m━━━━━━━━━━━━━━━━━━━━\u001b[0m\u001b[37m\u001b[0m \u001b[1m2s\u001b[0m 172ms/step - accuracy: 0.7497 - loss: 8.0043 - val_accuracy: 0.8091 - val_loss: 7.8148\n",
      "Epoch 45/100\n",
      "\u001b[1m14/14\u001b[0m \u001b[32m━━━━━━━━━━━━━━━━━━━━\u001b[0m\u001b[37m\u001b[0m \u001b[1m2s\u001b[0m 171ms/step - accuracy: 0.7813 - loss: 7.9991 - val_accuracy: 0.7818 - val_loss: 7.8393\n",
      "Epoch 46/100\n",
      "\u001b[1m14/14\u001b[0m \u001b[32m━━━━━━━━━━━━━━━━━━━━\u001b[0m\u001b[37m\u001b[0m \u001b[1m2s\u001b[0m 171ms/step - accuracy: 0.7910 - loss: 7.9679 - val_accuracy: 0.8000 - val_loss: 7.7481\n",
      "Epoch 47/100\n",
      "\u001b[1m14/14\u001b[0m \u001b[32m━━━━━━━━━━━━━━━━━━━━\u001b[0m\u001b[37m\u001b[0m \u001b[1m2s\u001b[0m 171ms/step - accuracy: 0.7467 - loss: 7.9515 - val_accuracy: 0.7909 - val_loss: 7.7882\n",
      "Epoch 48/100\n",
      "\u001b[1m14/14\u001b[0m \u001b[32m━━━━━━━━━━━━━━━━━━━━\u001b[0m\u001b[37m\u001b[0m \u001b[1m3s\u001b[0m 185ms/step - accuracy: 0.8195 - loss: 7.7647 - val_accuracy: 0.8273 - val_loss: 7.7299\n",
      "Epoch 49/100\n",
      "\u001b[1m14/14\u001b[0m \u001b[32m━━━━━━━━━━━━━━━━━━━━\u001b[0m\u001b[37m\u001b[0m \u001b[1m2s\u001b[0m 173ms/step - accuracy: 0.7838 - loss: 7.8073 - val_accuracy: 0.7818 - val_loss: 7.7586\n",
      "Epoch 50/100\n",
      "\u001b[1m14/14\u001b[0m \u001b[32m━━━━━━━━━━━━━━━━━━━━\u001b[0m\u001b[37m\u001b[0m \u001b[1m2s\u001b[0m 176ms/step - accuracy: 0.8027 - loss: 7.7935 - val_accuracy: 0.8182 - val_loss: 7.6941\n",
      "Epoch 51/100\n",
      "\u001b[1m14/14\u001b[0m \u001b[32m━━━━━━━━━━━━━━━━━━━━\u001b[0m\u001b[37m\u001b[0m \u001b[1m2s\u001b[0m 167ms/step - accuracy: 0.7655 - loss: 7.7855 - val_accuracy: 0.8000 - val_loss: 7.6791\n",
      "Epoch 52/100\n",
      "\u001b[1m14/14\u001b[0m \u001b[32m━━━━━━━━━━━━━━━━━━━━\u001b[0m\u001b[37m\u001b[0m \u001b[1m2s\u001b[0m 161ms/step - accuracy: 0.7753 - loss: 7.7058 - val_accuracy: 0.8000 - val_loss: 7.6347\n",
      "Epoch 53/100\n",
      "\u001b[1m14/14\u001b[0m \u001b[32m━━━━━━━━━━━━━━━━━━━━\u001b[0m\u001b[37m\u001b[0m \u001b[1m2s\u001b[0m 163ms/step - accuracy: 0.8317 - loss: 7.6144 - val_accuracy: 0.8091 - val_loss: 7.6248\n",
      "Epoch 54/100\n",
      "\u001b[1m14/14\u001b[0m \u001b[32m━━━━━━━━━━━━━━━━━━━━\u001b[0m\u001b[37m\u001b[0m \u001b[1m3s\u001b[0m 184ms/step - accuracy: 0.8009 - loss: 7.6640 - val_accuracy: 0.8182 - val_loss: 7.5938\n",
      "Epoch 55/100\n",
      "\u001b[1m14/14\u001b[0m \u001b[32m━━━━━━━━━━━━━━━━━━━━\u001b[0m\u001b[37m\u001b[0m \u001b[1m2s\u001b[0m 170ms/step - accuracy: 0.7881 - loss: 7.7545 - val_accuracy: 0.8273 - val_loss: 7.5760\n",
      "Epoch 56/100\n",
      "\u001b[1m14/14\u001b[0m \u001b[32m━━━━━━━━━━━━━━━━━━━━\u001b[0m\u001b[37m\u001b[0m \u001b[1m2s\u001b[0m 161ms/step - accuracy: 0.8237 - loss: 7.5954 - val_accuracy: 0.8364 - val_loss: 7.5627\n",
      "Epoch 57/100\n",
      "\u001b[1m14/14\u001b[0m \u001b[32m━━━━━━━━━━━━━━━━━━━━\u001b[0m\u001b[37m\u001b[0m \u001b[1m2s\u001b[0m 162ms/step - accuracy: 0.8352 - loss: 7.5125 - val_accuracy: 0.8182 - val_loss: 7.5185\n",
      "Epoch 58/100\n",
      "\u001b[1m14/14\u001b[0m \u001b[32m━━━━━━━━━━━━━━━━━━━━\u001b[0m\u001b[37m\u001b[0m \u001b[1m2s\u001b[0m 173ms/step - accuracy: 0.7746 - loss: 7.6627 - val_accuracy: 0.8182 - val_loss: 7.5201\n",
      "Epoch 59/100\n",
      "\u001b[1m14/14\u001b[0m \u001b[32m━━━━━━━━━━━━━━━━━━━━\u001b[0m\u001b[37m\u001b[0m \u001b[1m2s\u001b[0m 167ms/step - accuracy: 0.7812 - loss: 7.5850 - val_accuracy: 0.8182 - val_loss: 7.4656\n",
      "Epoch 60/100\n",
      "\u001b[1m14/14\u001b[0m \u001b[32m━━━━━━━━━━━━━━━━━━━━\u001b[0m\u001b[37m\u001b[0m \u001b[1m2s\u001b[0m 167ms/step - accuracy: 0.8415 - loss: 7.4125 - val_accuracy: 0.8273 - val_loss: 7.4676\n",
      "Epoch 61/100\n",
      "\u001b[1m14/14\u001b[0m \u001b[32m━━━━━━━━━━━━━━━━━━━━\u001b[0m\u001b[37m\u001b[0m \u001b[1m2s\u001b[0m 170ms/step - accuracy: 0.8140 - loss: 7.5179 - val_accuracy: 0.8364 - val_loss: 7.4175\n",
      "Epoch 62/100\n",
      "\u001b[1m14/14\u001b[0m \u001b[32m━━━━━━━━━━━━━━━━━━━━\u001b[0m\u001b[37m\u001b[0m \u001b[1m2s\u001b[0m 169ms/step - accuracy: 0.8416 - loss: 7.4242 - val_accuracy: 0.8273 - val_loss: 7.3984\n",
      "Epoch 63/100\n",
      "\u001b[1m14/14\u001b[0m \u001b[32m━━━━━━━━━━━━━━━━━━━━\u001b[0m\u001b[37m\u001b[0m \u001b[1m2s\u001b[0m 175ms/step - accuracy: 0.8002 - loss: 7.5286 - val_accuracy: 0.8364 - val_loss: 7.3960\n",
      "Epoch 64/100\n",
      "\u001b[1m14/14\u001b[0m \u001b[32m━━━━━━━━━━━━━━━━━━━━\u001b[0m\u001b[37m\u001b[0m \u001b[1m2s\u001b[0m 162ms/step - accuracy: 0.8512 - loss: 7.3713 - val_accuracy: 0.8455 - val_loss: 7.3652\n",
      "Epoch 65/100\n",
      "\u001b[1m14/14\u001b[0m \u001b[32m━━━━━━━━━━━━━━━━━━━━\u001b[0m\u001b[37m\u001b[0m \u001b[1m2s\u001b[0m 163ms/step - accuracy: 0.8353 - loss: 7.4096 - val_accuracy: 0.8364 - val_loss: 7.3370\n",
      "Epoch 66/100\n",
      "\u001b[1m14/14\u001b[0m \u001b[32m━━━━━━━━━━━━━━━━━━━━\u001b[0m\u001b[37m\u001b[0m \u001b[1m2s\u001b[0m 166ms/step - accuracy: 0.8309 - loss: 7.4005 - val_accuracy: 0.8364 - val_loss: 7.3167\n",
      "Epoch 67/100\n",
      "\u001b[1m14/14\u001b[0m \u001b[32m━━━━━━━━━━━━━━━━━━━━\u001b[0m\u001b[37m\u001b[0m \u001b[1m2s\u001b[0m 168ms/step - accuracy: 0.8167 - loss: 7.4110 - val_accuracy: 0.8182 - val_loss: 7.2951\n",
      "Epoch 68/100\n",
      "\u001b[1m14/14\u001b[0m \u001b[32m━━━━━━━━━━━━━━━━━━━━\u001b[0m\u001b[37m\u001b[0m \u001b[1m2s\u001b[0m 163ms/step - accuracy: 0.7977 - loss: 7.3601 - val_accuracy: 0.8545 - val_loss: 7.3199\n",
      "Epoch 69/100\n",
      "\u001b[1m14/14\u001b[0m \u001b[32m━━━━━━━━━━━━━━━━━━━━\u001b[0m\u001b[37m\u001b[0m \u001b[1m2s\u001b[0m 162ms/step - accuracy: 0.7898 - loss: 7.3588 - val_accuracy: 0.8182 - val_loss: 7.2731\n",
      "Epoch 70/100\n",
      "\u001b[1m14/14\u001b[0m \u001b[32m━━━━━━━━━━━━━━━━━━━━\u001b[0m\u001b[37m\u001b[0m \u001b[1m2s\u001b[0m 165ms/step - accuracy: 0.8432 - loss: 7.2153 - val_accuracy: 0.8636 - val_loss: 7.2854\n",
      "Epoch 71/100\n",
      "\u001b[1m14/14\u001b[0m \u001b[32m━━━━━━━━━━━━━━━━━━━━\u001b[0m\u001b[37m\u001b[0m \u001b[1m2s\u001b[0m 162ms/step - accuracy: 0.8352 - loss: 7.2922 - val_accuracy: 0.8182 - val_loss: 7.2300\n",
      "Epoch 72/100\n",
      "\u001b[1m14/14\u001b[0m \u001b[32m━━━━━━━━━━━━━━━━━━━━\u001b[0m\u001b[37m\u001b[0m \u001b[1m2s\u001b[0m 161ms/step - accuracy: 0.8182 - loss: 7.2764 - val_accuracy: 0.8545 - val_loss: 7.2538\n",
      "Epoch 73/100\n",
      "\u001b[1m14/14\u001b[0m \u001b[32m━━━━━━━━━━━━━━━━━━━━\u001b[0m\u001b[37m\u001b[0m \u001b[1m2s\u001b[0m 162ms/step - accuracy: 0.8049 - loss: 7.2674 - val_accuracy: 0.8273 - val_loss: 7.1928\n",
      "Epoch 74/100\n",
      "\u001b[1m14/14\u001b[0m \u001b[32m━━━━━━━━━━━━━━━━━━━━\u001b[0m\u001b[37m\u001b[0m \u001b[1m2s\u001b[0m 161ms/step - accuracy: 0.8461 - loss: 7.1650 - val_accuracy: 0.8364 - val_loss: 7.1818\n",
      "Epoch 75/100\n",
      "\u001b[1m14/14\u001b[0m \u001b[32m━━━━━━━━━━━━━━━━━━━━\u001b[0m\u001b[37m\u001b[0m \u001b[1m2s\u001b[0m 161ms/step - accuracy: 0.8310 - loss: 7.1728 - val_accuracy: 0.8364 - val_loss: 7.1509\n",
      "Epoch 76/100\n",
      "\u001b[1m14/14\u001b[0m \u001b[32m━━━━━━━━━━━━━━━━━━━━\u001b[0m\u001b[37m\u001b[0m \u001b[1m2s\u001b[0m 170ms/step - accuracy: 0.8328 - loss: 7.1319 - val_accuracy: 0.8364 - val_loss: 7.1293\n",
      "Epoch 77/100\n",
      "\u001b[1m14/14\u001b[0m \u001b[32m━━━━━━━━━━━━━━━━━━━━\u001b[0m\u001b[37m\u001b[0m \u001b[1m3s\u001b[0m 183ms/step - accuracy: 0.8167 - loss: 7.1364 - val_accuracy: 0.8273 - val_loss: 7.0987\n",
      "Epoch 78/100\n",
      "\u001b[1m14/14\u001b[0m \u001b[32m━━━━━━━━━━━━━━━━━━━━\u001b[0m\u001b[37m\u001b[0m \u001b[1m2s\u001b[0m 166ms/step - accuracy: 0.8413 - loss: 7.1295 - val_accuracy: 0.8364 - val_loss: 7.0781\n",
      "Epoch 79/100\n",
      "\u001b[1m14/14\u001b[0m \u001b[32m━━━━━━━━━━━━━━━━━━━━\u001b[0m\u001b[37m\u001b[0m \u001b[1m2s\u001b[0m 169ms/step - accuracy: 0.8332 - loss: 7.0463 - val_accuracy: 0.8636 - val_loss: 7.0812\n",
      "Epoch 80/100\n",
      "\u001b[1m14/14\u001b[0m \u001b[32m━━━━━━━━━━━━━━━━━━━━\u001b[0m\u001b[37m\u001b[0m \u001b[1m2s\u001b[0m 170ms/step - accuracy: 0.8121 - loss: 7.1182 - val_accuracy: 0.8455 - val_loss: 7.0554\n",
      "Epoch 81/100\n",
      "\u001b[1m14/14\u001b[0m \u001b[32m━━━━━━━━━━━━━━━━━━━━\u001b[0m\u001b[37m\u001b[0m \u001b[1m2s\u001b[0m 167ms/step - accuracy: 0.8491 - loss: 7.0102 - val_accuracy: 0.8455 - val_loss: 7.0308\n",
      "Epoch 82/100\n",
      "\u001b[1m14/14\u001b[0m \u001b[32m━━━━━━━━━━━━━━━━━━━━\u001b[0m\u001b[37m\u001b[0m \u001b[1m2s\u001b[0m 167ms/step - accuracy: 0.8600 - loss: 6.9268 - val_accuracy: 0.8455 - val_loss: 7.0292\n",
      "Epoch 83/100\n",
      "\u001b[1m14/14\u001b[0m \u001b[32m━━━━━━━━━━━━━━━━━━━━\u001b[0m\u001b[37m\u001b[0m \u001b[1m2s\u001b[0m 168ms/step - accuracy: 0.8448 - loss: 6.9640 - val_accuracy: 0.8545 - val_loss: 7.0011\n",
      "Epoch 84/100\n",
      "\u001b[1m14/14\u001b[0m \u001b[32m━━━━━━━━━━━━━━━━━━━━\u001b[0m\u001b[37m\u001b[0m \u001b[1m2s\u001b[0m 173ms/step - accuracy: 0.8488 - loss: 6.9037 - val_accuracy: 0.8364 - val_loss: 6.9605\n",
      "Epoch 85/100\n",
      "\u001b[1m14/14\u001b[0m \u001b[32m━━━━━━━━━━━━━━━━━━━━\u001b[0m\u001b[37m\u001b[0m \u001b[1m2s\u001b[0m 170ms/step - accuracy: 0.8732 - loss: 6.9424 - val_accuracy: 0.8364 - val_loss: 6.9469\n",
      "Epoch 86/100\n",
      "\u001b[1m14/14\u001b[0m \u001b[32m━━━━━━━━━━━━━━━━━━━━\u001b[0m\u001b[37m\u001b[0m \u001b[1m2s\u001b[0m 166ms/step - accuracy: 0.8104 - loss: 6.9453 - val_accuracy: 0.8455 - val_loss: 6.9188\n",
      "Epoch 87/100\n",
      "\u001b[1m14/14\u001b[0m \u001b[32m━━━━━━━━━━━━━━━━━━━━\u001b[0m\u001b[37m\u001b[0m \u001b[1m2s\u001b[0m 167ms/step - accuracy: 0.8512 - loss: 6.8825 - val_accuracy: 0.8364 - val_loss: 6.8885\n",
      "Epoch 88/100\n",
      "\u001b[1m14/14\u001b[0m \u001b[32m━━━━━━━━━━━━━━━━━━━━\u001b[0m\u001b[37m\u001b[0m \u001b[1m2s\u001b[0m 166ms/step - accuracy: 0.8458 - loss: 6.8536 - val_accuracy: 0.8364 - val_loss: 6.8732\n",
      "Epoch 89/100\n",
      "\u001b[1m14/14\u001b[0m \u001b[32m━━━━━━━━━━━━━━━━━━━━\u001b[0m\u001b[37m\u001b[0m \u001b[1m2s\u001b[0m 167ms/step - accuracy: 0.8592 - loss: 6.8266 - val_accuracy: 0.8455 - val_loss: 6.8653\n",
      "Epoch 90/100\n",
      "\u001b[1m14/14\u001b[0m \u001b[32m━━━━━━━━━━━━━━━━━━━━\u001b[0m\u001b[37m\u001b[0m \u001b[1m2s\u001b[0m 166ms/step - accuracy: 0.8650 - loss: 6.7720 - val_accuracy: 0.8545 - val_loss: 6.8482\n",
      "Epoch 91/100\n",
      "\u001b[1m14/14\u001b[0m \u001b[32m━━━━━━━━━━━━━━━━━━━━\u001b[0m\u001b[37m\u001b[0m \u001b[1m2s\u001b[0m 176ms/step - accuracy: 0.8615 - loss: 6.7825 - val_accuracy: 0.8455 - val_loss: 6.8221\n",
      "Epoch 92/100\n",
      "\u001b[1m14/14\u001b[0m \u001b[32m━━━━━━━━━━━━━━━━━━━━\u001b[0m\u001b[37m\u001b[0m \u001b[1m2s\u001b[0m 177ms/step - accuracy: 0.8382 - loss: 6.7595 - val_accuracy: 0.8636 - val_loss: 6.8112\n",
      "Epoch 93/100\n",
      "\u001b[1m14/14\u001b[0m \u001b[32m━━━━━━━━━━━━━━━━━━━━\u001b[0m\u001b[37m\u001b[0m \u001b[1m2s\u001b[0m 171ms/step - accuracy: 0.8193 - loss: 6.7787 - val_accuracy: 0.8455 - val_loss: 6.7670\n",
      "Epoch 94/100\n",
      "\u001b[1m14/14\u001b[0m \u001b[32m━━━━━━━━━━━━━━━━━━━━\u001b[0m\u001b[37m\u001b[0m \u001b[1m2s\u001b[0m 168ms/step - accuracy: 0.8727 - loss: 6.7172 - val_accuracy: 0.8545 - val_loss: 6.7639\n",
      "Epoch 95/100\n",
      "\u001b[1m14/14\u001b[0m \u001b[32m━━━━━━━━━━━━━━━━━━━━\u001b[0m\u001b[37m\u001b[0m \u001b[1m2s\u001b[0m 177ms/step - accuracy: 0.8531 - loss: 6.6773 - val_accuracy: 0.8455 - val_loss: 6.7492\n",
      "Epoch 96/100\n",
      "\u001b[1m14/14\u001b[0m \u001b[32m━━━━━━━━━━━━━━━━━━━━\u001b[0m\u001b[37m\u001b[0m \u001b[1m2s\u001b[0m 170ms/step - accuracy: 0.8789 - loss: 6.6586 - val_accuracy: 0.8455 - val_loss: 6.7239\n",
      "Epoch 97/100\n",
      "\u001b[1m14/14\u001b[0m \u001b[32m━━━━━━━━━━━━━━━━━━━━\u001b[0m\u001b[37m\u001b[0m \u001b[1m3s\u001b[0m 183ms/step - accuracy: 0.8657 - loss: 6.6581 - val_accuracy: 0.8636 - val_loss: 6.7044\n",
      "Epoch 98/100\n",
      "\u001b[1m14/14\u001b[0m \u001b[32m━━━━━━━━━━━━━━━━━━━━\u001b[0m\u001b[37m\u001b[0m \u001b[1m3s\u001b[0m 183ms/step - accuracy: 0.8223 - loss: 6.7209 - val_accuracy: 0.8545 - val_loss: 6.6854\n",
      "Epoch 99/100\n",
      "\u001b[1m14/14\u001b[0m \u001b[32m━━━━━━━━━━━━━━━━━━━━\u001b[0m\u001b[37m\u001b[0m \u001b[1m3s\u001b[0m 204ms/step - accuracy: 0.8625 - loss: 6.5916 - val_accuracy: 0.8545 - val_loss: 6.6658\n",
      "Epoch 100/100\n",
      "\u001b[1m14/14\u001b[0m \u001b[32m━━━━━━━━━━━━━━━━━━━━\u001b[0m\u001b[37m\u001b[0m \u001b[1m3s\u001b[0m 181ms/step - accuracy: 0.8665 - loss: 6.5924 - val_accuracy: 0.8545 - val_loss: 6.6371\n"
     ]
    }
   ],
   "source": [
    "# Training\n",
    "model = selector.get_model(input_shape) \n",
    "opt = keras.optimizers.Adam(learning_rate=0.0001)\n",
    "model.compile(optimizer=opt,\n",
    "            loss=tf.keras.losses.SparseCategoricalCrossentropy(from_logits=False), \n",
    "            metrics=['accuracy'])\n",
    "\n",
    "history =  model.fit( \n",
    "X_train_filtered,\n",
    "y_train_filtered,\n",
    "validation_split = 0.2,\n",
    "batch_size = 32,\n",
    "epochs=epochs)"
   ]
  },
  {
   "cell_type": "markdown",
   "id": "0d5a02f3-46d4-4a7f-b060-871c0d380ced",
   "metadata": {},
   "source": [
    "### Training time"
   ]
  },
  {
   "cell_type": "code",
   "execution_count": 36,
   "id": "7ce9e4c4-bdcf-4f47-b69a-a2a6ff274896",
   "metadata": {},
   "outputs": [
    {
     "name": "stdout",
     "output_type": "stream",
     "text": [
      "The training took 243.69 seconds.\n",
      "Train_time: 243.69\n"
     ]
    }
   ],
   "source": [
    "end_time = time.time()\n",
    "elapsed_time = end_time - start_time\n",
    "elapsed_time = round(elapsed_time, 2)\n",
    "print(f\"The training took {elapsed_time} seconds.\")\n",
    "\n",
    "save_metric('train_time', elapsed_time)"
   ]
  },
  {
   "cell_type": "markdown",
   "id": "4c54dc0a-a388-40f9-810f-747b46e252eb",
   "metadata": {},
   "source": [
    "### Memory usage"
   ]
  },
  {
   "cell_type": "code",
   "execution_count": 37,
   "id": "2815200e-88f7-45a6-81db-55f2d9fa2d7f",
   "metadata": {},
   "outputs": [
    {
     "name": "stdout",
     "output_type": "stream",
     "text": [
      "Current memory usage: 65.43 MB\n",
      "Peak memory usage: 67.39 MB\n",
      "Mem_use: 67394193\n"
     ]
    }
   ],
   "source": [
    "current, peak = tracemalloc.get_traced_memory()\n",
    "tracemalloc.stop()\n",
    "\n",
    "print(f\"Current memory usage: {current / 10**6:.2f} MB\")\n",
    "print(f\"Peak memory usage: {peak / 10**6:.2f} MB\")\n",
    "\n",
    "peak_memory = peak / 10**6  # Convert to MB\n",
    "\n",
    "save_metric('mem_use', peak)"
   ]
  },
  {
   "cell_type": "markdown",
   "id": "12eb57e1-7c87-48d3-8823-7e4f23d2b8e9",
   "metadata": {},
   "source": [
    "### Save the model "
   ]
  },
  {
   "cell_type": "code",
   "execution_count": 38,
   "id": "617dfd59-9deb-43bf-83f9-91859cb6a9fe",
   "metadata": {},
   "outputs": [
    {
     "name": "stderr",
     "output_type": "stream",
     "text": [
      "WARNING:absl:You are saving your model as an HDF5 file via `model.save()` or `keras.saving.save_model(model)`. This file format is considered legacy. We recommend using instead the native Keras format, e.g. `model.save('my_model.keras')` or `keras.saving.save_model(model, 'my_model.keras')`. \n"
     ]
    }
   ],
   "source": [
    "model.save(os.path.join(base_path, 'model.h5'))"
   ]
  },
  {
   "cell_type": "markdown",
   "id": "f6b3d9a3-c412-476a-81b5-09040b11d024",
   "metadata": {},
   "source": [
    "## Predictions and Results"
   ]
  },
  {
   "cell_type": "code",
   "execution_count": 39,
   "id": "cef177ce-4fdd-499f-8653-ba2b8d490086",
   "metadata": {},
   "outputs": [],
   "source": [
    "start_time = time.time()"
   ]
  },
  {
   "cell_type": "code",
   "execution_count": 40,
   "id": "b9882125-942a-4ccf-811b-fd0b3239e501",
   "metadata": {},
   "outputs": [
    {
     "name": "stdout",
     "output_type": "stream",
     "text": [
      "\u001b[1m2/2\u001b[0m \u001b[32m━━━━━━━━━━━━━━━━━━━━\u001b[0m\u001b[37m\u001b[0m \u001b[1m0s\u001b[0m 160ms/step\n"
     ]
    }
   ],
   "source": [
    "predictions = model.predict(X_test_filtered)"
   ]
  },
  {
   "cell_type": "markdown",
   "id": "835fffba-064b-4778-8b78-75cf0648ce94",
   "metadata": {},
   "source": [
    "### Classification time"
   ]
  },
  {
   "cell_type": "code",
   "execution_count": 41,
   "id": "434e70a4-eec2-43cd-b9b2-c45bd26bd121",
   "metadata": {},
   "outputs": [
    {
     "name": "stdout",
     "output_type": "stream",
     "text": [
      "The predictions took 0.5014574527740479 seconds.\n",
      "Class_time: 0.5\n"
     ]
    }
   ],
   "source": [
    "end_time = time.time()\n",
    "elapsed_time = end_time - start_time\n",
    "print(f\"The predictions took {elapsed_time} seconds.\")\n",
    "elapsed_time = round(elapsed_time, 2)\n",
    "\n",
    "save_metric('class_time', elapsed_time)"
   ]
  },
  {
   "cell_type": "code",
   "execution_count": 42,
   "id": "df47ba32-a733-4e19-a983-672226712038",
   "metadata": {},
   "outputs": [],
   "source": [
    "predicted = np.argmax(predictions, axis=1)"
   ]
  },
  {
   "cell_type": "markdown",
   "id": "c77a0ac3-4119-409d-91a7-6946d45fffdb",
   "metadata": {},
   "source": [
    "### Accuracy"
   ]
  },
  {
   "cell_type": "code",
   "execution_count": 43,
   "id": "020aa3f4-0cb3-40a4-be4f-144efec35bb1",
   "metadata": {},
   "outputs": [
    {
     "name": "stdout",
     "output_type": "stream",
     "text": [
      "Accuracy: 88.0\n",
      "Accuracy: 88.0\n"
     ]
    }
   ],
   "source": [
    "accuracy = 100 * accuracy_score(y_test_filtered, predicted)\n",
    "print(\"Accuracy:\", accuracy)\n",
    "accuracy = round(accuracy, 2)\n",
    "\n",
    "save_metric('accuracy', accuracy)"
   ]
  },
  {
   "cell_type": "markdown",
   "id": "0487d412-a234-4e7a-97d0-4067ee9cbdec",
   "metadata": {},
   "source": [
    "### F1 Score"
   ]
  },
  {
   "cell_type": "code",
   "execution_count": 44,
   "id": "ea0afef2-7125-420c-a8f0-075d9891c23a",
   "metadata": {},
   "outputs": [
    {
     "name": "stdout",
     "output_type": "stream",
     "text": [
      "F1 Score: 88.03864734299516\n",
      "F1: 88.04\n"
     ]
    }
   ],
   "source": [
    "f1 = 100 * f1_score(y_test_filtered, predicted, average='weighted')\n",
    "print(\"F1 Score:\", f1)\n",
    "f1 = round(f1, 2)\n",
    "\n",
    "save_metric('f1', f1)"
   ]
  },
  {
   "cell_type": "markdown",
   "id": "82807a52",
   "metadata": {},
   "source": [
    "### Confusion Matrrix"
   ]
  },
  {
   "cell_type": "code",
   "execution_count": 45,
   "id": "ff8cab20",
   "metadata": {},
   "outputs": [
    {
     "data": {
      "image/png": "[encoded data removed]",
      "text/plain": [
       "<Figure size 640x480 with 2 Axes>"
      ]
     },
     "metadata": {},
     "output_type": "display_data"
    }
   ],
   "source": [
    "cm = confusion_matrix(y_test_filtered, predicted)\n",
    "sns.heatmap(cm, annot=True, fmt='d', cmap='Blues')\n",
    "plt.xlabel('Predicted labels')\n",
    "plt.ylabel('True labels')\n",
    "plt.title('Confusion Matrix')\n",
    "plt.savefig(os.path.join(base_path, 'confusion_matrix.pdf'))\n",
    "plt.show()"
   ]
  },
  {
   "cell_type": "markdown",
   "id": "edb20bca-4630-4a67-8d40-538df8aa232c",
   "metadata": {},
   "source": [
    "## Visualize Predictions "
   ]
  },
  {
   "cell_type": "code",
   "execution_count": 49,
   "id": "8889a132-191a-4fbf-9f16-10a81d218dc1",
   "metadata": {},
   "outputs": [
    {
     "data": {
      "image/png": "[encoded data removed]",
      "text/plain": [
       "<Figure size 640x480 with 2 Axes>"
      ]
     },
     "metadata": {},
     "output_type": "display_data"
    }
   ],
   "source": [
    "plt.imshow(X_test_filtered[2])\n",
    "plt.title(f\"Predicted Class: {predicted[2]}\\nTrue Class: {y_test_filtered[2]}\", fontsize=14)\n",
    "plt.axis('off')\n",
    "plt.colorbar()\n",
    "plt.show()"
   ]
  },
  {
   "cell_type": "markdown",
   "id": "71547a57-94d0-43f3-9f6e-5af26cf2a103",
   "metadata": {},
   "source": [
    "## Training Results"
   ]
  },
  {
   "cell_type": "code",
   "execution_count": 47,
   "id": "b69a4686-52e9-4c38-acb4-c6d5607fcc80",
   "metadata": {},
   "outputs": [],
   "source": [
    "for history in histories: \n",
    "    acc = history.history['accuracy']\n",
    "    val_acc = history.history['val_accuracy']\n",
    "\n",
    "    loss = history.history['loss']\n",
    "    val_loss = history.history['val_loss']\n",
    "\n",
    "    epochs_range = range(epochs)\n",
    "\n",
    "    plt.figure(figsize=(8, 8))\n",
    "\n",
    "    plt.subplot(1, 2, 2)\n",
    "    plt.plot(epochs_range, loss, label='Training Loss')\n",
    "    plt.plot(epochs_range, val_loss, label='Validation Loss')\n",
    "    plt.legend(loc='upper right')\n",
    "    plt.title('Training and Validation Loss in Tensorflow')\n",
    "    \n",
    "    plt.savefig(os.path.join(base_path, 'training_results.pdf'))\n",
    "    plt.close()"
   ]
  }
 ],
 "metadata": {
  "kernelspec": {
   "display_name": "Python 3",
   "language": "python",
   "name": "python3"
  },
  "language_info": {
   "codemirror_mode": {
    "name": "ipython",
    "version": 3
   },
   "file_extension": ".py",
   "mimetype": "text/x-python",
   "name": "python",
   "nbconvert_exporter": "python",
   "pygments_lexer": "ipython3",
   "version": "3.10.12"
  }
 },
 "nbformat": 4,
 "nbformat_minor": 5
}
